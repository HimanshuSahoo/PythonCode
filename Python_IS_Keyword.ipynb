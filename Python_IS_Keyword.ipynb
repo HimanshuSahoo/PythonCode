{
  "nbformat": 4,
  "nbformat_minor": 5,
  "metadata": {
    "kernelspec": {
      "display_name": "Python 3",
      "language": "python",
      "name": "python3"
    },
    "language_info": {
      "codemirror_mode": {
        "name": "ipython",
        "version": 3
      },
      "file_extension": ".py",
      "mimetype": "text/x-python",
      "name": "python",
      "nbconvert_exporter": "python",
      "pygments_lexer": "ipython3",
      "version": "3.8.8"
    },
    "toc": {
      "base_numbering": 1,
      "nav_menu": {},
      "number_sections": true,
      "sideBar": true,
      "skip_h1_title": false,
      "title_cell": "Table of Contents",
      "title_sidebar": "Contents",
      "toc_cell": false,
      "toc_position": {},
      "toc_section_display": true,
      "toc_window_display": false
    },
    "varInspector": {
      "cols": {
        "lenName": 16,
        "lenType": 16,
        "lenVar": 40
      },
      "kernels_config": {
        "python": {
          "delete_cmd_postfix": "",
          "delete_cmd_prefix": "del ",
          "library": "var_list.py",
          "varRefreshCmd": "print(var_dic_list())"
        },
        "r": {
          "delete_cmd_postfix": ") ",
          "delete_cmd_prefix": "rm(",
          "library": "var_list.r",
          "varRefreshCmd": "cat(var_dic_list()) "
        }
      },
      "types_to_exclude": [
        "module",
        "function",
        "builtin_function_or_method",
        "instance",
        "_Feature"
      ],
      "window_display": false
    },
    "colab": {
      "name": "Python IS Keyword.ipynb",
      "provenance": [],
      "include_colab_link": true
    }
  },
  "cells": [
    {
      "cell_type": "markdown",
      "metadata": {
        "id": "view-in-github",
        "colab_type": "text"
      },
      "source": [
        "<a href=\"https://colab.research.google.com/github/HimanshuSahoo/PythonCode/blob/main/Python_IS_Keyword.ipynb\" target=\"_parent\"><img src=\"https://colab.research.google.com/assets/colab-badge.svg\" alt=\"Open In Colab\"/></a>"
      ]
    },
    {
      "cell_type": "markdown",
      "metadata": {
        "id": "b3d7d28f"
      },
      "source": [
        "## Python IS Keyword"
      ],
      "id": "b3d7d28f"
    },
    {
      "cell_type": "code",
      "metadata": {
        "id": "66d40a27",
        "outputId": "a355051f-baff-40e7-ea36-2054afcfd981"
      },
      "source": [
        "#is vs ==\n",
        "lst1=[\"Krish\",\"Krish1\",\"Krish2\"]\n",
        "lst2=[\"Krish\",\"Krish1\",\"Krish2\"]\n",
        "lst1==lst2"
      ],
      "id": "66d40a27",
      "execution_count": null,
      "outputs": [
        {
          "data": {
            "text/plain": [
              "True"
            ]
          },
          "execution_count": 1,
          "metadata": {},
          "output_type": "execute_result"
        }
      ]
    },
    {
      "cell_type": "code",
      "metadata": {
        "id": "3a07f8bc",
        "outputId": "ccdd9aaf-503b-419d-8b29-6f3be2fd3a29"
      },
      "source": [
        "a=\"Krish\"\n",
        "b=\"Krish\"\n",
        "a==b"
      ],
      "id": "3a07f8bc",
      "execution_count": null,
      "outputs": [
        {
          "data": {
            "text/plain": [
              "True"
            ]
          },
          "execution_count": 2,
          "metadata": {},
          "output_type": "execute_result"
        }
      ]
    },
    {
      "cell_type": "code",
      "metadata": {
        "id": "ddc22b3a",
        "outputId": "129f6730-5ac8-4b58-fdb9-2b8cd7350263"
      },
      "source": [
        "lst1=[\"Krish\",\"Krish1\",\"Krish2\"]\n",
        "lst2=lst1\n",
        "lst1 is lst2"
      ],
      "id": "ddc22b3a",
      "execution_count": null,
      "outputs": [
        {
          "data": {
            "text/plain": [
              "True"
            ]
          },
          "execution_count": 3,
          "metadata": {},
          "output_type": "execute_result"
        }
      ]
    },
    {
      "cell_type": "code",
      "metadata": {
        "id": "647f743c",
        "outputId": "b358b07b-ac43-4c5b-8a84-e0b3b6bc93de"
      },
      "source": [
        "lst2 is lst1"
      ],
      "id": "647f743c",
      "execution_count": null,
      "outputs": [
        {
          "data": {
            "text/plain": [
              "True"
            ]
          },
          "execution_count": 4,
          "metadata": {},
          "output_type": "execute_result"
        }
      ]
    },
    {
      "cell_type": "code",
      "metadata": {
        "id": "e69e9a77"
      },
      "source": [
        "lst2[0]=\"Krish2\""
      ],
      "id": "e69e9a77",
      "execution_count": null,
      "outputs": []
    },
    {
      "cell_type": "code",
      "metadata": {
        "id": "f7a4ea50",
        "outputId": "0a536b6b-2ae1-4a64-b82a-e45755d9ae46"
      },
      "source": [
        "lst2"
      ],
      "id": "f7a4ea50",
      "execution_count": null,
      "outputs": [
        {
          "data": {
            "text/plain": [
              "['Krish2', 'Krish1', 'Krish2']"
            ]
          },
          "execution_count": 6,
          "metadata": {},
          "output_type": "execute_result"
        }
      ]
    },
    {
      "cell_type": "code",
      "metadata": {
        "id": "b65e80f7",
        "outputId": "59af858d-1f76-400a-cf81-35651a9f6a09"
      },
      "source": [
        "lst1"
      ],
      "id": "b65e80f7",
      "execution_count": null,
      "outputs": [
        {
          "data": {
            "text/plain": [
              "['Krish2', 'Krish1', 'Krish2']"
            ]
          },
          "execution_count": 7,
          "metadata": {},
          "output_type": "execute_result"
        }
      ]
    },
    {
      "cell_type": "code",
      "metadata": {
        "id": "e31edd40"
      },
      "source": [
        ""
      ],
      "id": "e31edd40",
      "execution_count": null,
      "outputs": []
    }
  ]
}