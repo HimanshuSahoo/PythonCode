{
  "nbformat": 4,
  "nbformat_minor": 5,
  "metadata": {
    "kernelspec": {
      "display_name": "Python 3",
      "language": "python",
      "name": "python3"
    },
    "language_info": {
      "codemirror_mode": {
        "name": "ipython",
        "version": 3
      },
      "file_extension": ".py",
      "mimetype": "text/x-python",
      "name": "python",
      "nbconvert_exporter": "python",
      "pygments_lexer": "ipython3",
      "version": "3.8.8"
    },
    "toc": {
      "base_numbering": 1,
      "nav_menu": {},
      "number_sections": true,
      "sideBar": true,
      "skip_h1_title": false,
      "title_cell": "Table of Contents",
      "title_sidebar": "Contents",
      "toc_cell": false,
      "toc_position": {},
      "toc_section_display": true,
      "toc_window_display": false
    },
    "varInspector": {
      "cols": {
        "lenName": 16,
        "lenType": 16,
        "lenVar": 40
      },
      "kernels_config": {
        "python": {
          "delete_cmd_postfix": "",
          "delete_cmd_prefix": "del ",
          "library": "var_list.py",
          "varRefreshCmd": "print(var_dic_list())"
        },
        "r": {
          "delete_cmd_postfix": ") ",
          "delete_cmd_prefix": "rm(",
          "library": "var_list.r",
          "varRefreshCmd": "cat(var_dic_list()) "
        }
      },
      "types_to_exclude": [
        "module",
        "function",
        "builtin_function_or_method",
        "instance",
        "_Feature"
      ],
      "window_display": false
    },
    "colab": {
      "name": "Advance Python Series-Magic Methods In Classes.ipynb",
      "provenance": [],
      "include_colab_link": true
    }
  },
  "cells": [
    {
      "cell_type": "markdown",
      "metadata": {
        "id": "view-in-github",
        "colab_type": "text"
      },
      "source": [
        "<a href=\"https://colab.research.google.com/github/HimanshuSahoo/PythonCode/blob/main/Advance_Python_Series_Magic_Methods_In_Classes.ipynb\" target=\"_parent\"><img src=\"https://colab.research.google.com/assets/colab-badge.svg\" alt=\"Open In Colab\"/></a>"
      ]
    },
    {
      "cell_type": "markdown",
      "metadata": {
        "id": "48d03dca"
      },
      "source": [
        "## Python OOPS-Magic Methods In Classes"
      ],
      "id": "48d03dca"
    },
    {
      "cell_type": "code",
      "metadata": {
        "id": "94dd0622"
      },
      "source": [
        "### All the class variables are public\n",
        "### Car Blueprint\n",
        "class Car():\n",
        "    def __new__(self,windows,doors,enginetype):\n",
        "        print(\"The object has started getting initialized\")\n",
        "    def __init__(self,windows,doors,enginetype):\n",
        "        self.windows=windows\n",
        "        self.doors=doors\n",
        "        self.enginetype=enginetype\n",
        "    def __str__(self):\n",
        "        return \"The object has been initialized\"\n",
        "    def __sizeof__(self):\n",
        "        return \"This displays size of the object\"\n",
        "    def drive(self):\n",
        "        print(\"The Person drives the car\")"
      ],
      "id": "94dd0622",
      "execution_count": null,
      "outputs": []
    },
    {
      "cell_type": "code",
      "metadata": {
        "id": "fa14108d",
        "outputId": "2b566425-5d3d-4aa6-e614-2c1170fedd2c"
      },
      "source": [
        "c=Car(4,5,\"Diesel\")"
      ],
      "id": "fa14108d",
      "execution_count": null,
      "outputs": [
        {
          "name": "stdout",
          "output_type": "stream",
          "text": [
            "The object has started getting initialized\n"
          ]
        }
      ]
    },
    {
      "cell_type": "code",
      "metadata": {
        "id": "3c9e6cad",
        "outputId": "79baf6f4-b420-414f-bcab-d5110369e7b3"
      },
      "source": [
        "print(c)"
      ],
      "id": "3c9e6cad",
      "execution_count": null,
      "outputs": [
        {
          "name": "stdout",
          "output_type": "stream",
          "text": [
            "None\n"
          ]
        }
      ]
    },
    {
      "cell_type": "code",
      "metadata": {
        "id": "811839c9",
        "outputId": "d5246936-6958-4e8d-a8d0-8777e8e117bf"
      },
      "source": [
        "c.__sizeof__()"
      ],
      "id": "811839c9",
      "execution_count": null,
      "outputs": [
        {
          "data": {
            "text/plain": [
              "16"
            ]
          },
          "execution_count": 5,
          "metadata": {},
          "output_type": "execute_result"
        }
      ]
    },
    {
      "cell_type": "code",
      "metadata": {
        "id": "d3b9251f",
        "outputId": "e1ee9ccc-b877-452a-dd0e-ebd76dae44c4"
      },
      "source": [
        "dir(c)"
      ],
      "id": "d3b9251f",
      "execution_count": null,
      "outputs": [
        {
          "data": {
            "text/plain": [
              "['__bool__',\n",
              " '__class__',\n",
              " '__delattr__',\n",
              " '__dir__',\n",
              " '__doc__',\n",
              " '__eq__',\n",
              " '__format__',\n",
              " '__ge__',\n",
              " '__getattribute__',\n",
              " '__gt__',\n",
              " '__hash__',\n",
              " '__init__',\n",
              " '__init_subclass__',\n",
              " '__le__',\n",
              " '__lt__',\n",
              " '__ne__',\n",
              " '__new__',\n",
              " '__reduce__',\n",
              " '__reduce_ex__',\n",
              " '__repr__',\n",
              " '__setattr__',\n",
              " '__sizeof__',\n",
              " '__str__',\n",
              " '__subclasshook__']"
            ]
          },
          "execution_count": 6,
          "metadata": {},
          "output_type": "execute_result"
        }
      ]
    },
    {
      "cell_type": "code",
      "metadata": {
        "id": "7422f61b"
      },
      "source": [
        ""
      ],
      "id": "7422f61b",
      "execution_count": null,
      "outputs": []
    }
  ]
}