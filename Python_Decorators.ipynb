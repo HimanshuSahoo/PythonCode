{
  "nbformat": 4,
  "nbformat_minor": 5,
  "metadata": {
    "kernelspec": {
      "display_name": "Python 3",
      "language": "python",
      "name": "python3"
    },
    "language_info": {
      "codemirror_mode": {
        "name": "ipython",
        "version": 3
      },
      "file_extension": ".py",
      "mimetype": "text/x-python",
      "name": "python",
      "nbconvert_exporter": "python",
      "pygments_lexer": "ipython3",
      "version": "3.8.8"
    },
    "toc": {
      "base_numbering": 1,
      "nav_menu": {},
      "number_sections": true,
      "sideBar": true,
      "skip_h1_title": false,
      "title_cell": "Table of Contents",
      "title_sidebar": "Contents",
      "toc_cell": false,
      "toc_position": {},
      "toc_section_display": true,
      "toc_window_display": false
    },
    "varInspector": {
      "cols": {
        "lenName": 16,
        "lenType": 16,
        "lenVar": 40
      },
      "kernels_config": {
        "python": {
          "delete_cmd_postfix": "",
          "delete_cmd_prefix": "del ",
          "library": "var_list.py",
          "varRefreshCmd": "print(var_dic_list())"
        },
        "r": {
          "delete_cmd_postfix": ") ",
          "delete_cmd_prefix": "rm(",
          "library": "var_list.r",
          "varRefreshCmd": "cat(var_dic_list()) "
        }
      },
      "types_to_exclude": [
        "module",
        "function",
        "builtin_function_or_method",
        "instance",
        "_Feature"
      ],
      "window_display": false
    },
    "colab": {
      "name": "Python Decorators.ipynb",
      "provenance": [],
      "include_colab_link": true
    }
  },
  "cells": [
    {
      "cell_type": "markdown",
      "metadata": {
        "id": "view-in-github",
        "colab_type": "text"
      },
      "source": [
        "<a href=\"https://colab.research.google.com/github/HimanshuSahoo/PythonCode/blob/main/Python_Decorators.ipynb\" target=\"_parent\"><img src=\"https://colab.research.google.com/assets/colab-badge.svg\" alt=\"Open In Colab\"/></a>"
      ]
    },
    {
      "cell_type": "markdown",
      "metadata": {
        "id": "d37f77e8"
      },
      "source": [
        "## Python Decorators"
      ],
      "id": "d37f77e8"
    },
    {
      "cell_type": "code",
      "metadata": {
        "id": "79f7a75e"
      },
      "source": [
        "## function copy\n",
        "## closures\n",
        "## decorators"
      ],
      "id": "79f7a75e",
      "execution_count": null,
      "outputs": []
    },
    {
      "cell_type": "code",
      "metadata": {
        "id": "ba08b9f0"
      },
      "source": [
        "def welcome():\n",
        "    return \"Welcome to Krish Naik Youtube Channel\""
      ],
      "id": "ba08b9f0",
      "execution_count": null,
      "outputs": []
    },
    {
      "cell_type": "code",
      "metadata": {
        "id": "6e4928a0"
      },
      "source": [
        "wel=welcome()\n",
        "del welcome"
      ],
      "id": "6e4928a0",
      "execution_count": null,
      "outputs": []
    },
    {
      "cell_type": "code",
      "metadata": {
        "id": "dce97e27",
        "outputId": "cb057e8c-c98c-4d26-f3f3-8c3e2eb9ca40"
      },
      "source": [
        "wel"
      ],
      "id": "dce97e27",
      "execution_count": null,
      "outputs": [
        {
          "data": {
            "text/plain": [
              "'Welcome to Krish Naik Youtube Channel'"
            ]
          },
          "execution_count": 4,
          "metadata": {},
          "output_type": "execute_result"
        }
      ]
    },
    {
      "cell_type": "code",
      "metadata": {
        "id": "1e9570d4"
      },
      "source": [
        "### Closures\n",
        "def main_welcome(msg):\n",
        "   \n",
        "    def sub_welcome_class():\n",
        "        print(\"Welcome To Krish Naik Youtube Channel\")\n",
        "        print(msg)\n",
        "        print(\"Please subscribe Krish channel\")\n",
        "    return sub_welcome_class()"
      ],
      "id": "1e9570d4",
      "execution_count": null,
      "outputs": []
    },
    {
      "cell_type": "code",
      "metadata": {
        "id": "57ee10b1",
        "outputId": "ba0183b6-5119-4ad9-9614-f2839c80a13b"
      },
      "source": [
        "main_welcome(\"Krish\")"
      ],
      "id": "57ee10b1",
      "execution_count": null,
      "outputs": [
        {
          "name": "stdout",
          "output_type": "stream",
          "text": [
            "Welcome To Krish Naik Youtube Channel\n",
            "Krish\n",
            "Please subscribe Krish channel\n"
          ]
        }
      ]
    },
    {
      "cell_type": "code",
      "metadata": {
        "id": "d847b014"
      },
      "source": [
        "### Closures & initial Decorators\n",
        "def main_welcome(func):\n",
        "   \n",
        "    def sub_welcome_class():\n",
        "        print(\"Welcome To Krish Naik Youtube Channel\")\n",
        "        print(func([1,2,3,4,5,6]))\n",
        "        print(\"Please subscribe Krish channel\")\n",
        "    return sub_welcome_class()"
      ],
      "id": "d847b014",
      "execution_count": null,
      "outputs": []
    },
    {
      "cell_type": "code",
      "metadata": {
        "id": "67d98d23",
        "outputId": "3616a61d-6366-4915-c2b9-8e7b03e5b6ba"
      },
      "source": [
        "main_welcome(len)"
      ],
      "id": "67d98d23",
      "execution_count": null,
      "outputs": [
        {
          "name": "stdout",
          "output_type": "stream",
          "text": [
            "Welcome To Krish Naik Youtube Channel\n",
            "6\n",
            "Please subscribe Krish channel\n"
          ]
        }
      ]
    },
    {
      "cell_type": "code",
      "metadata": {
        "id": "2519d456"
      },
      "source": [
        "### Decorators\n",
        "def main_welcome(func):\n",
        "   \n",
        "    def sub_welcome_class():\n",
        "        print(\"Welcome To Krish Naik Youtube Channel\")\n",
        "        func()\n",
        "        print(\"Please subscribe Krish channel\")\n",
        "    return sub_welcome_class()"
      ],
      "id": "2519d456",
      "execution_count": null,
      "outputs": []
    },
    {
      "cell_type": "code",
      "metadata": {
        "id": "7f7314e7",
        "outputId": "38adc158-5746-4d6f-9700-01e875ebdf21"
      },
      "source": [
        "@main_welcome\n",
        "def channel_name():\n",
        "    print(\"This is Krish youtube channel\")"
      ],
      "id": "7f7314e7",
      "execution_count": null,
      "outputs": [
        {
          "name": "stdout",
          "output_type": "stream",
          "text": [
            "Welcome To Krish Naik Youtube Channel\n",
            "This is Krish youtube channel\n",
            "Please subscribe Krish channel\n"
          ]
        }
      ]
    },
    {
      "cell_type": "code",
      "metadata": {
        "id": "23d6ba3b",
        "outputId": "61e27ff4-e447-40b7-cb45-7c2ca691b663"
      },
      "source": [
        "a=main_welcome(channel_name)"
      ],
      "id": "23d6ba3b",
      "execution_count": null,
      "outputs": [
        {
          "name": "stdout",
          "output_type": "stream",
          "text": [
            "Welcome To Krish Naik Youtube Channel\n"
          ]
        },
        {
          "ename": "TypeError",
          "evalue": "'NoneType' object is not callable",
          "output_type": "error",
          "traceback": [
            "\u001b[1;31m---------------------------------------------------------------------------\u001b[0m",
            "\u001b[1;31mTypeError\u001b[0m                                 Traceback (most recent call last)",
            "\u001b[1;32m<ipython-input-11-3cc0677918f7>\u001b[0m in \u001b[0;36m<module>\u001b[1;34m\u001b[0m\n\u001b[1;32m----> 1\u001b[1;33m \u001b[0ma\u001b[0m\u001b[1;33m=\u001b[0m\u001b[0mmain_welcome\u001b[0m\u001b[1;33m(\u001b[0m\u001b[0mchannel_name\u001b[0m\u001b[1;33m)\u001b[0m\u001b[1;33m\u001b[0m\u001b[1;33m\u001b[0m\u001b[0m\n\u001b[0m",
            "\u001b[1;32m<ipython-input-9-6be4aa5cc4a1>\u001b[0m in \u001b[0;36mmain_welcome\u001b[1;34m(func)\u001b[0m\n\u001b[0;32m      6\u001b[0m         \u001b[0mfunc\u001b[0m\u001b[1;33m(\u001b[0m\u001b[1;33m)\u001b[0m\u001b[1;33m\u001b[0m\u001b[1;33m\u001b[0m\u001b[0m\n\u001b[0;32m      7\u001b[0m         \u001b[0mprint\u001b[0m\u001b[1;33m(\u001b[0m\u001b[1;34m\"Please subscribe Krish channel\"\u001b[0m\u001b[1;33m)\u001b[0m\u001b[1;33m\u001b[0m\u001b[1;33m\u001b[0m\u001b[0m\n\u001b[1;32m----> 8\u001b[1;33m     \u001b[1;32mreturn\u001b[0m \u001b[0msub_welcome_class\u001b[0m\u001b[1;33m(\u001b[0m\u001b[1;33m)\u001b[0m\u001b[1;33m\u001b[0m\u001b[1;33m\u001b[0m\u001b[0m\n\u001b[0m",
            "\u001b[1;32m<ipython-input-9-6be4aa5cc4a1>\u001b[0m in \u001b[0;36msub_welcome_class\u001b[1;34m()\u001b[0m\n\u001b[0;32m      4\u001b[0m     \u001b[1;32mdef\u001b[0m \u001b[0msub_welcome_class\u001b[0m\u001b[1;33m(\u001b[0m\u001b[1;33m)\u001b[0m\u001b[1;33m:\u001b[0m\u001b[1;33m\u001b[0m\u001b[1;33m\u001b[0m\u001b[0m\n\u001b[0;32m      5\u001b[0m         \u001b[0mprint\u001b[0m\u001b[1;33m(\u001b[0m\u001b[1;34m\"Welcome To Krish Naik Youtube Channel\"\u001b[0m\u001b[1;33m)\u001b[0m\u001b[1;33m\u001b[0m\u001b[1;33m\u001b[0m\u001b[0m\n\u001b[1;32m----> 6\u001b[1;33m         \u001b[0mfunc\u001b[0m\u001b[1;33m(\u001b[0m\u001b[1;33m)\u001b[0m\u001b[1;33m\u001b[0m\u001b[1;33m\u001b[0m\u001b[0m\n\u001b[0m\u001b[0;32m      7\u001b[0m         \u001b[0mprint\u001b[0m\u001b[1;33m(\u001b[0m\u001b[1;34m\"Please subscribe Krish channel\"\u001b[0m\u001b[1;33m)\u001b[0m\u001b[1;33m\u001b[0m\u001b[1;33m\u001b[0m\u001b[0m\n\u001b[0;32m      8\u001b[0m     \u001b[1;32mreturn\u001b[0m \u001b[0msub_welcome_class\u001b[0m\u001b[1;33m(\u001b[0m\u001b[1;33m)\u001b[0m\u001b[1;33m\u001b[0m\u001b[1;33m\u001b[0m\u001b[0m\n",
            "\u001b[1;31mTypeError\u001b[0m: 'NoneType' object is not callable"
          ]
        }
      ]
    },
    {
      "cell_type": "code",
      "metadata": {
        "id": "1f7f3dc6"
      },
      "source": [
        ""
      ],
      "id": "1f7f3dc6",
      "execution_count": null,
      "outputs": []
    }
  ]
}