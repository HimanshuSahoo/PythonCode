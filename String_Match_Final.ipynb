{
  "nbformat": 4,
  "nbformat_minor": 5,
  "metadata": {
    "kernelspec": {
      "display_name": "Python 3",
      "language": "python",
      "name": "python3"
    },
    "language_info": {
      "codemirror_mode": {
        "name": "ipython",
        "version": 3
      },
      "file_extension": ".py",
      "mimetype": "text/x-python",
      "name": "python",
      "nbconvert_exporter": "python",
      "pygments_lexer": "ipython3",
      "version": "3.8.5"
    },
    "toc": {
      "base_numbering": 1,
      "nav_menu": {},
      "number_sections": true,
      "sideBar": true,
      "skip_h1_title": false,
      "title_cell": "Table of Contents",
      "title_sidebar": "Contents",
      "toc_cell": false,
      "toc_position": {},
      "toc_section_display": true,
      "toc_window_display": false
    },
    "varInspector": {
      "cols": {
        "lenName": 16,
        "lenType": 16,
        "lenVar": 40
      },
      "kernels_config": {
        "python": {
          "delete_cmd_postfix": "",
          "delete_cmd_prefix": "del ",
          "library": "var_list.py",
          "varRefreshCmd": "print(var_dic_list())"
        },
        "r": {
          "delete_cmd_postfix": ") ",
          "delete_cmd_prefix": "rm(",
          "library": "var_list.r",
          "varRefreshCmd": "cat(var_dic_list()) "
        }
      },
      "types_to_exclude": [
        "module",
        "function",
        "builtin_function_or_method",
        "instance",
        "_Feature"
      ],
      "window_display": false
    },
    "colab": {
      "name": "String Match_Final.ipynb",
      "provenance": [],
      "include_colab_link": true
    }
  },
  "cells": [
    {
      "cell_type": "markdown",
      "metadata": {
        "id": "view-in-github",
        "colab_type": "text"
      },
      "source": [
        "<a href=\"https://colab.research.google.com/github/HimanshuSahoo/PythonCode/blob/main/String_Match_Final.ipynb\" target=\"_parent\"><img src=\"https://colab.research.google.com/assets/colab-badge.svg\" alt=\"Open In Colab\"/></a>"
      ]
    },
    {
      "cell_type": "code",
      "metadata": {
        "id": "csX64XDorLE0"
      },
      "source": [
        "import base64\n",
        "import boto3\n",
        "import gzip\n",
        "import json\n",
        "import logging\n",
        "import os"
      ],
      "id": "csX64XDorLE0",
      "execution_count": null,
      "outputs": []
    },
    {
      "cell_type": "code",
      "metadata": {
        "id": "fSYJ3CNDrLE8"
      },
      "source": [
        "import numpy as np\n",
        "import pandas as pd"
      ],
      "id": "fSYJ3CNDrLE8",
      "execution_count": null,
      "outputs": []
    },
    {
      "cell_type": "code",
      "metadata": {
        "id": "sY6T6RfirLE-"
      },
      "source": [
        "df=pd.read_csv('D://Cloudwatch_Logs.csv',encoding='latin1')"
      ],
      "id": "sY6T6RfirLE-",
      "execution_count": null,
      "outputs": []
    },
    {
      "cell_type": "code",
      "metadata": {
        "id": "kwV_JNR0rLE_",
        "outputId": "e1324dab-5364-4775-a5be-d9feb7d8af45"
      },
      "source": [
        "df"
      ],
      "id": "kwV_JNR0rLE_",
      "execution_count": null,
      "outputs": [
        {
          "data": {
            "text/html": [
              "<div>\n",
              "<style scoped>\n",
              "    .dataframe tbody tr th:only-of-type {\n",
              "        vertical-align: middle;\n",
              "    }\n",
              "\n",
              "    .dataframe tbody tr th {\n",
              "        vertical-align: top;\n",
              "    }\n",
              "\n",
              "    .dataframe thead th {\n",
              "        text-align: right;\n",
              "    }\n",
              "</style>\n",
              "<table border=\"1\" class=\"dataframe\">\n",
              "  <thead>\n",
              "    <tr style=\"text-align: right;\">\n",
              "      <th></th>\n",
              "      <th>Error_Name</th>\n",
              "      <th>Error_Type</th>\n",
              "    </tr>\n",
              "  </thead>\n",
              "  <tbody>\n",
              "    <tr>\n",
              "      <th>0</th>\n",
              "      <td>[ERROR]-Failed to unmount</td>\n",
              "      <td>Admin Error</td>\n",
              "    </tr>\n",
              "    <tr>\n",
              "      <th>1</th>\n",
              "      <td>[ERROR]-Worker is ungracefully killed</td>\n",
              "      <td>Platform Error</td>\n",
              "    </tr>\n",
              "    <tr>\n",
              "      <th>2</th>\n",
              "      <td>runtime execution error: unable to start lambd...</td>\n",
              "      <td>Platform Error</td>\n",
              "    </tr>\n",
              "    <tr>\n",
              "      <th>3</th>\n",
              "      <td>[ERROR]-Deployment failed.</td>\n",
              "      <td>Deployment Error</td>\n",
              "    </tr>\n",
              "    <tr>\n",
              "      <th>4</th>\n",
              "      <td>[ERROR]-runtime failed to start: unable to sta...</td>\n",
              "      <td>Platform Error</td>\n",
              "    </tr>\n",
              "    <tr>\n",
              "      <th>5</th>\n",
              "      <td>[2021-09-10T06:07:27.463-04:00][ERROR]-warning...</td>\n",
              "      <td>Platform Error</td>\n",
              "    </tr>\n",
              "    <tr>\n",
              "      <th>6</th>\n",
              "      <td>[2021-09-10T06:07:58.331-04:00][ERROR]-warning...</td>\n",
              "      <td>Platform Error</td>\n",
              "    </tr>\n",
              "  </tbody>\n",
              "</table>\n",
              "</div>"
            ],
            "text/plain": [
              "                                          Error_Name        Error_Type\n",
              "0                         [ERROR]-Failed to unmount        Admin Error\n",
              "1              [ERROR]-Worker is ungracefully killed    Platform Error\n",
              "2  runtime execution error: unable to start lambd...    Platform Error\n",
              "3                         [ERROR]-Deployment failed.  Deployment Error\n",
              "4  [ERROR]-runtime failed to start: unable to sta...    Platform Error\n",
              "5  [2021-09-10T06:07:27.463-04:00][ERROR]-warning...    Platform Error\n",
              "6  [2021-09-10T06:07:58.331-04:00][ERROR]-warning...    Platform Error"
            ]
          },
          "execution_count": 11,
          "metadata": {},
          "output_type": "execute_result"
        }
      ]
    },
    {
      "cell_type": "code",
      "metadata": {
        "id": "G3LeKX9ArLFB"
      },
      "source": [
        "header_names=['Error_Name']\n",
        "df=pd.read_csv('D://Cloudwatch_Logs.csv',encoding='latin1')"
      ],
      "id": "G3LeKX9ArLFB",
      "execution_count": null,
      "outputs": []
    },
    {
      "cell_type": "code",
      "metadata": {
        "id": "1YK44XZCrLFC",
        "outputId": "5ddafae1-4391-4463-9c9f-e2e001e14292"
      },
      "source": [
        "df"
      ],
      "id": "1YK44XZCrLFC",
      "execution_count": null,
      "outputs": [
        {
          "data": {
            "text/html": [
              "<div>\n",
              "<style scoped>\n",
              "    .dataframe tbody tr th:only-of-type {\n",
              "        vertical-align: middle;\n",
              "    }\n",
              "\n",
              "    .dataframe tbody tr th {\n",
              "        vertical-align: top;\n",
              "    }\n",
              "\n",
              "    .dataframe thead th {\n",
              "        text-align: right;\n",
              "    }\n",
              "</style>\n",
              "<table border=\"1\" class=\"dataframe\">\n",
              "  <thead>\n",
              "    <tr style=\"text-align: right;\">\n",
              "      <th></th>\n",
              "      <th>Error_Name</th>\n",
              "      <th>Error_Type</th>\n",
              "    </tr>\n",
              "  </thead>\n",
              "  <tbody>\n",
              "    <tr>\n",
              "      <th>0</th>\n",
              "      <td>[ERROR]-Failed to unmount</td>\n",
              "      <td>Admin Error</td>\n",
              "    </tr>\n",
              "    <tr>\n",
              "      <th>1</th>\n",
              "      <td>[ERROR]-Worker is ungracefully killed</td>\n",
              "      <td>Platform Error</td>\n",
              "    </tr>\n",
              "    <tr>\n",
              "      <th>2</th>\n",
              "      <td>runtime execution error: unable to start lambd...</td>\n",
              "      <td>Platform Error</td>\n",
              "    </tr>\n",
              "    <tr>\n",
              "      <th>3</th>\n",
              "      <td>[ERROR]-Deployment failed.</td>\n",
              "      <td>Deployment Error</td>\n",
              "    </tr>\n",
              "    <tr>\n",
              "      <th>4</th>\n",
              "      <td>[ERROR]-runtime failed to start: unable to sta...</td>\n",
              "      <td>Platform Error</td>\n",
              "    </tr>\n",
              "    <tr>\n",
              "      <th>5</th>\n",
              "      <td>[2021-09-10T06:07:27.463-04:00][ERROR]-warning...</td>\n",
              "      <td>Platform Error</td>\n",
              "    </tr>\n",
              "    <tr>\n",
              "      <th>6</th>\n",
              "      <td>[2021-09-10T06:07:58.331-04:00][ERROR]-warning...</td>\n",
              "      <td>Platform Error</td>\n",
              "    </tr>\n",
              "  </tbody>\n",
              "</table>\n",
              "</div>"
            ],
            "text/plain": [
              "                                          Error_Name        Error_Type\n",
              "0                         [ERROR]-Failed to unmount        Admin Error\n",
              "1              [ERROR]-Worker is ungracefully killed    Platform Error\n",
              "2  runtime execution error: unable to start lambd...    Platform Error\n",
              "3                         [ERROR]-Deployment failed.  Deployment Error\n",
              "4  [ERROR]-runtime failed to start: unable to sta...    Platform Error\n",
              "5  [2021-09-10T06:07:27.463-04:00][ERROR]-warning...    Platform Error\n",
              "6  [2021-09-10T06:07:58.331-04:00][ERROR]-warning...    Platform Error"
            ]
          },
          "execution_count": 14,
          "metadata": {},
          "output_type": "execute_result"
        }
      ]
    },
    {
      "cell_type": "code",
      "metadata": {
        "id": "tIUjS4DYrLFD"
      },
      "source": [
        "df['Error_Type'] = np.NaN"
      ],
      "id": "tIUjS4DYrLFD",
      "execution_count": null,
      "outputs": []
    },
    {
      "cell_type": "code",
      "metadata": {
        "id": "yBS7O8smrLFF",
        "outputId": "d69b7fb2-29f1-452d-806d-8173c9d29494"
      },
      "source": [
        "df"
      ],
      "id": "yBS7O8smrLFF",
      "execution_count": null,
      "outputs": [
        {
          "data": {
            "text/html": [
              "<div>\n",
              "<style scoped>\n",
              "    .dataframe tbody tr th:only-of-type {\n",
              "        vertical-align: middle;\n",
              "    }\n",
              "\n",
              "    .dataframe tbody tr th {\n",
              "        vertical-align: top;\n",
              "    }\n",
              "\n",
              "    .dataframe thead th {\n",
              "        text-align: right;\n",
              "    }\n",
              "</style>\n",
              "<table border=\"1\" class=\"dataframe\">\n",
              "  <thead>\n",
              "    <tr style=\"text-align: right;\">\n",
              "      <th></th>\n",
              "      <th>Error_Name</th>\n",
              "      <th>Error_Type</th>\n",
              "    </tr>\n",
              "  </thead>\n",
              "  <tbody>\n",
              "    <tr>\n",
              "      <th>0</th>\n",
              "      <td>[ERROR]-Failed to unmount</td>\n",
              "      <td>NaN</td>\n",
              "    </tr>\n",
              "    <tr>\n",
              "      <th>1</th>\n",
              "      <td>[ERROR]-Worker is ungracefully killed</td>\n",
              "      <td>NaN</td>\n",
              "    </tr>\n",
              "    <tr>\n",
              "      <th>2</th>\n",
              "      <td>runtime execution error: unable to start lambd...</td>\n",
              "      <td>NaN</td>\n",
              "    </tr>\n",
              "    <tr>\n",
              "      <th>3</th>\n",
              "      <td>[ERROR]-Deployment failed.</td>\n",
              "      <td>NaN</td>\n",
              "    </tr>\n",
              "    <tr>\n",
              "      <th>4</th>\n",
              "      <td>[ERROR]-runtime failed to start: unable to sta...</td>\n",
              "      <td>NaN</td>\n",
              "    </tr>\n",
              "    <tr>\n",
              "      <th>5</th>\n",
              "      <td>[2021-09-10T06:07:27.463-04:00][ERROR]-warning...</td>\n",
              "      <td>NaN</td>\n",
              "    </tr>\n",
              "    <tr>\n",
              "      <th>6</th>\n",
              "      <td>[2021-09-10T06:07:58.331-04:00][ERROR]-warning...</td>\n",
              "      <td>NaN</td>\n",
              "    </tr>\n",
              "  </tbody>\n",
              "</table>\n",
              "</div>"
            ],
            "text/plain": [
              "                                          Error_Name  Error_Type\n",
              "0                         [ERROR]-Failed to unmount          NaN\n",
              "1              [ERROR]-Worker is ungracefully killed         NaN\n",
              "2  runtime execution error: unable to start lambd...         NaN\n",
              "3                         [ERROR]-Deployment failed.         NaN\n",
              "4  [ERROR]-runtime failed to start: unable to sta...         NaN\n",
              "5  [2021-09-10T06:07:27.463-04:00][ERROR]-warning...         NaN\n",
              "6  [2021-09-10T06:07:58.331-04:00][ERROR]-warning...         NaN"
            ]
          },
          "execution_count": 16,
          "metadata": {},
          "output_type": "execute_result"
        }
      ]
    },
    {
      "cell_type": "code",
      "metadata": {
        "id": "Fh-3FsLWrLFJ",
        "outputId": "6f8de561-a135-4187-f498-dcd8795bb848"
      },
      "source": [
        "df['Error_Type'] = pd.np.where(df.Error_Name.str.contains(\"Deployment\"), \"Deployment Error\",\n",
        "                               pd.np.where(df.Error_Name.str.contains(\"runtime\"), \"Runtime Error\",\n",
        "                               pd.np.where(df.Error_Name.str.contains(\"ungracefully\"), \"Platform Error\",\"Proc Error\")))"
      ],
      "id": "Fh-3FsLWrLFJ",
      "execution_count": null,
      "outputs": [
        {
          "name": "stderr",
          "output_type": "stream",
          "text": [
            "<ipython-input-60-603bdcaed914>:1: FutureWarning: The pandas.np module is deprecated and will be removed from pandas in a future version. Import numpy directly instead\n",
            "  df['Error_Type'] = pd.np.where(df.Error_Name.str.contains(\"Deployment\"), \"Deployment Error\",\n",
            "<ipython-input-60-603bdcaed914>:2: FutureWarning: The pandas.np module is deprecated and will be removed from pandas in a future version. Import numpy directly instead\n",
            "  pd.np.where(df.Error_Name.str.contains(\"runtime\"), \"Runtime Error\",\n",
            "<ipython-input-60-603bdcaed914>:3: FutureWarning: The pandas.np module is deprecated and will be removed from pandas in a future version. Import numpy directly instead\n",
            "  pd.np.where(df.Error_Name.str.contains(\"ungracefully\"), \"Platform Error\",\"Proc Error\")))\n"
          ]
        }
      ]
    },
    {
      "cell_type": "code",
      "metadata": {
        "id": "RoqnZt0RrLFM",
        "outputId": "41e6b056-4715-4190-d5ac-5353c531553a"
      },
      "source": [
        "df"
      ],
      "id": "RoqnZt0RrLFM",
      "execution_count": null,
      "outputs": [
        {
          "data": {
            "text/html": [
              "<div>\n",
              "<style scoped>\n",
              "    .dataframe tbody tr th:only-of-type {\n",
              "        vertical-align: middle;\n",
              "    }\n",
              "\n",
              "    .dataframe tbody tr th {\n",
              "        vertical-align: top;\n",
              "    }\n",
              "\n",
              "    .dataframe thead th {\n",
              "        text-align: right;\n",
              "    }\n",
              "</style>\n",
              "<table border=\"1\" class=\"dataframe\">\n",
              "  <thead>\n",
              "    <tr style=\"text-align: right;\">\n",
              "      <th></th>\n",
              "      <th>Error_Name</th>\n",
              "      <th>Error_Type</th>\n",
              "    </tr>\n",
              "  </thead>\n",
              "  <tbody>\n",
              "    <tr>\n",
              "      <th>0</th>\n",
              "      <td>[ERROR]-Failed to unmount</td>\n",
              "      <td>Proc Error</td>\n",
              "    </tr>\n",
              "    <tr>\n",
              "      <th>1</th>\n",
              "      <td>[ERROR]-Worker is ungracefully killed</td>\n",
              "      <td>Platform Error</td>\n",
              "    </tr>\n",
              "    <tr>\n",
              "      <th>2</th>\n",
              "      <td>runtime execution error: unable to start lambd...</td>\n",
              "      <td>Runtime Error</td>\n",
              "    </tr>\n",
              "    <tr>\n",
              "      <th>3</th>\n",
              "      <td>[ERROR]-Deployment failed.</td>\n",
              "      <td>Deployment Error</td>\n",
              "    </tr>\n",
              "    <tr>\n",
              "      <th>4</th>\n",
              "      <td>[ERROR]-runtime failed to start: unable to sta...</td>\n",
              "      <td>Runtime Error</td>\n",
              "    </tr>\n",
              "    <tr>\n",
              "      <th>5</th>\n",
              "      <td>[2021-09-10T06:07:27.463-04:00][ERROR]-warning...</td>\n",
              "      <td>Proc Error</td>\n",
              "    </tr>\n",
              "    <tr>\n",
              "      <th>6</th>\n",
              "      <td>[2021-09-10T06:07:58.331-04:00][ERROR]-warning...</td>\n",
              "      <td>Proc Error</td>\n",
              "    </tr>\n",
              "  </tbody>\n",
              "</table>\n",
              "</div>"
            ],
            "text/plain": [
              "                                          Error_Name        Error_Type\n",
              "0                         [ERROR]-Failed to unmount         Proc Error\n",
              "1              [ERROR]-Worker is ungracefully killed    Platform Error\n",
              "2  runtime execution error: unable to start lambd...     Runtime Error\n",
              "3                         [ERROR]-Deployment failed.  Deployment Error\n",
              "4  [ERROR]-runtime failed to start: unable to sta...     Runtime Error\n",
              "5  [2021-09-10T06:07:27.463-04:00][ERROR]-warning...        Proc Error\n",
              "6  [2021-09-10T06:07:58.331-04:00][ERROR]-warning...        Proc Error"
            ]
          },
          "execution_count": 61,
          "metadata": {},
          "output_type": "execute_result"
        }
      ]
    },
    {
      "cell_type": "code",
      "metadata": {
        "id": "qqKxl_XErLFO"
      },
      "source": [
        ""
      ],
      "id": "qqKxl_XErLFO",
      "execution_count": null,
      "outputs": []
    }
  ]
}