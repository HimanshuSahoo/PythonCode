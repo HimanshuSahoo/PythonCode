{
  "nbformat": 4,
  "nbformat_minor": 5,
  "metadata": {
    "kernelspec": {
      "display_name": "Python 3",
      "language": "python",
      "name": "python3"
    },
    "language_info": {
      "codemirror_mode": {
        "name": "ipython",
        "version": 3
      },
      "file_extension": ".py",
      "mimetype": "text/x-python",
      "name": "python",
      "nbconvert_exporter": "python",
      "pygments_lexer": "ipython3",
      "version": "3.8.8"
    },
    "toc": {
      "base_numbering": 1,
      "nav_menu": {},
      "number_sections": true,
      "sideBar": true,
      "skip_h1_title": false,
      "title_cell": "Table of Contents",
      "title_sidebar": "Contents",
      "toc_cell": false,
      "toc_position": {},
      "toc_section_display": true,
      "toc_window_display": false
    },
    "varInspector": {
      "cols": {
        "lenName": 16,
        "lenType": 16,
        "lenVar": 40
      },
      "kernels_config": {
        "python": {
          "delete_cmd_postfix": "",
          "delete_cmd_prefix": "del ",
          "library": "var_list.py",
          "varRefreshCmd": "print(var_dic_list())"
        },
        "r": {
          "delete_cmd_postfix": ") ",
          "delete_cmd_prefix": "rm(",
          "library": "var_list.r",
          "varRefreshCmd": "cat(var_dic_list()) "
        }
      },
      "types_to_exclude": [
        "module",
        "function",
        "builtin_function_or_method",
        "instance",
        "_Feature"
      ],
      "window_display": false
    },
    "colab": {
      "name": "Advance Python Series- Inheritance--OOPS.ipynb",
      "provenance": [],
      "include_colab_link": true
    }
  },
  "cells": [
    {
      "cell_type": "markdown",
      "metadata": {
        "id": "view-in-github",
        "colab_type": "text"
      },
      "source": [
        "<a href=\"https://colab.research.google.com/github/HimanshuSahoo/PythonCode/blob/main/Advance_Python_Series_Inheritance_OOPS.ipynb\" target=\"_parent\"><img src=\"https://colab.research.google.com/assets/colab-badge.svg\" alt=\"Open In Colab\"/></a>"
      ]
    },
    {
      "cell_type": "markdown",
      "metadata": {
        "id": "20a89f8e"
      },
      "source": [
        "## Python OOPS- Inheritance"
      ],
      "id": "20a89f8e"
    },
    {
      "cell_type": "code",
      "metadata": {
        "id": "8603609c"
      },
      "source": [
        "### All the class variables are public\n",
        "### Car Blueprint\n",
        "class Car():\n",
        "    def __init__(self,windows,doors,enginetype):\n",
        "        self.windows=windows\n",
        "        self.doors=doors\n",
        "        self.enginetype=enginetype\n",
        "    def drive(self):\n",
        "        print(\"The Person drives the car\")"
      ],
      "id": "8603609c",
      "execution_count": null,
      "outputs": []
    },
    {
      "cell_type": "code",
      "metadata": {
        "id": "fc90be8a"
      },
      "source": [
        "car=Car(4,5,\"diesel\")"
      ],
      "id": "fc90be8a",
      "execution_count": null,
      "outputs": []
    },
    {
      "cell_type": "code",
      "metadata": {
        "id": "7ba6c98b",
        "outputId": "2fb8f418-fa79-4327-997e-bd4a670779c9"
      },
      "source": [
        "car.drive()\n"
      ],
      "id": "7ba6c98b",
      "execution_count": null,
      "outputs": [
        {
          "name": "stdout",
          "output_type": "stream",
          "text": [
            "The Person drives the car\n"
          ]
        }
      ]
    },
    {
      "cell_type": "code",
      "metadata": {
        "id": "da94f429"
      },
      "source": [
        "class audi(Car):\n",
        "    def __init__(self,windows,doors,enginetype,enableai):\n",
        "        super().__init__(windows,doors,enginetype)\n",
        "        self.enableai=enableai\n",
        "    def selfdriving(self):\n",
        "        print(\"Audi supports Self driving\")"
      ],
      "id": "da94f429",
      "execution_count": null,
      "outputs": []
    },
    {
      "cell_type": "code",
      "metadata": {
        "id": "0a4969f4"
      },
      "source": [
        "audiQ7=audi(5,5,\"diesel\",True)"
      ],
      "id": "0a4969f4",
      "execution_count": null,
      "outputs": []
    },
    {
      "cell_type": "code",
      "metadata": {
        "id": "25bb8490",
        "outputId": "07f270f0-ffa9-44e4-95a2-c3785cda896f"
      },
      "source": [
        "audiQ7.selfdriving()"
      ],
      "id": "25bb8490",
      "execution_count": null,
      "outputs": [
        {
          "name": "stdout",
          "output_type": "stream",
          "text": [
            "Audi supports Self driving\n"
          ]
        }
      ]
    },
    {
      "cell_type": "code",
      "metadata": {
        "id": "36e291c0"
      },
      "source": [
        ""
      ],
      "id": "36e291c0",
      "execution_count": null,
      "outputs": []
    }
  ]
}