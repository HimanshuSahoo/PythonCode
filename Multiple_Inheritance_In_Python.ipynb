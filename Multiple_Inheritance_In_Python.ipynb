{
  "nbformat": 4,
  "nbformat_minor": 5,
  "metadata": {
    "kernelspec": {
      "display_name": "Python 3",
      "language": "python",
      "name": "python3"
    },
    "language_info": {
      "codemirror_mode": {
        "name": "ipython",
        "version": 3
      },
      "file_extension": ".py",
      "mimetype": "text/x-python",
      "name": "python",
      "nbconvert_exporter": "python",
      "pygments_lexer": "ipython3",
      "version": "3.8.8"
    },
    "toc": {
      "base_numbering": 1,
      "nav_menu": {},
      "number_sections": true,
      "sideBar": true,
      "skip_h1_title": false,
      "title_cell": "Table of Contents",
      "title_sidebar": "Contents",
      "toc_cell": false,
      "toc_position": {},
      "toc_section_display": true,
      "toc_window_display": false
    },
    "varInspector": {
      "cols": {
        "lenName": 16,
        "lenType": 16,
        "lenVar": 40
      },
      "kernels_config": {
        "python": {
          "delete_cmd_postfix": "",
          "delete_cmd_prefix": "del ",
          "library": "var_list.py",
          "varRefreshCmd": "print(var_dic_list())"
        },
        "r": {
          "delete_cmd_postfix": ") ",
          "delete_cmd_prefix": "rm(",
          "library": "var_list.r",
          "varRefreshCmd": "cat(var_dic_list()) "
        }
      },
      "types_to_exclude": [
        "module",
        "function",
        "builtin_function_or_method",
        "instance",
        "_Feature"
      ],
      "window_display": false
    },
    "colab": {
      "name": "Multiple Inheritance In Python.ipynb",
      "provenance": [],
      "include_colab_link": true
    }
  },
  "cells": [
    {
      "cell_type": "markdown",
      "metadata": {
        "id": "view-in-github",
        "colab_type": "text"
      },
      "source": [
        "<a href=\"https://colab.research.google.com/github/HimanshuSahoo/PythonCode/blob/main/Multiple_Inheritance_In_Python.ipynb\" target=\"_parent\"><img src=\"https://colab.research.google.com/assets/colab-badge.svg\" alt=\"Open In Colab\"/></a>"
      ]
    },
    {
      "cell_type": "markdown",
      "metadata": {
        "id": "d186ee36"
      },
      "source": [
        "## OOPS-Multiple Inheritance In Python"
      ],
      "id": "d186ee36"
    },
    {
      "cell_type": "code",
      "metadata": {
        "id": "e2462530"
      },
      "source": [
        "class A:\n",
        "    def method1(self):\n",
        "        print(\"A class method is called\")"
      ],
      "id": "e2462530",
      "execution_count": null,
      "outputs": []
    },
    {
      "cell_type": "code",
      "metadata": {
        "id": "d9749c03"
      },
      "source": [
        "class B(A):\n",
        "    def method1(self):\n",
        "        print(\"B class method is called\")\n",
        "    def method2(self):\n",
        "        print(\"B class method2 is called\")"
      ],
      "id": "d9749c03",
      "execution_count": null,
      "outputs": []
    },
    {
      "cell_type": "code",
      "metadata": {
        "id": "1346ea31"
      },
      "source": [
        "class C(A):\n",
        "    def method1(self):\n",
        "        print(\"C class method is called\")"
      ],
      "id": "1346ea31",
      "execution_count": null,
      "outputs": []
    },
    {
      "cell_type": "code",
      "metadata": {
        "id": "2cbb1843"
      },
      "source": [
        "class D(B,C):\n",
        "    def method1(self):\n",
        "        print(\"D class method is called\")\n",
        "        C.method1(self)\n",
        "        B.method1(self)\n",
        "        A.method1(self)"
      ],
      "id": "2cbb1843",
      "execution_count": null,
      "outputs": []
    },
    {
      "cell_type": "code",
      "metadata": {
        "id": "5f352187"
      },
      "source": [
        "d=D()"
      ],
      "id": "5f352187",
      "execution_count": null,
      "outputs": []
    },
    {
      "cell_type": "code",
      "metadata": {
        "id": "a53a063d",
        "outputId": "a1793184-efc3-44b6-9139-c8e277965e70"
      },
      "source": [
        "d.method1()"
      ],
      "id": "a53a063d",
      "execution_count": null,
      "outputs": [
        {
          "name": "stdout",
          "output_type": "stream",
          "text": [
            "D class method is called\n",
            "C class method is called\n",
            "B class method is called\n",
            "A class method is called\n"
          ]
        }
      ]
    },
    {
      "cell_type": "code",
      "metadata": {
        "id": "3dccca55",
        "outputId": "6fedcab0-a6f9-4cd1-d943-9f324d2aefc4"
      },
      "source": [
        "B.method1(d)"
      ],
      "id": "3dccca55",
      "execution_count": null,
      "outputs": [
        {
          "name": "stdout",
          "output_type": "stream",
          "text": [
            "B class method is called\n"
          ]
        }
      ]
    },
    {
      "cell_type": "code",
      "metadata": {
        "id": "eed0b023",
        "outputId": "23c3d450-b97c-41eb-b826-d064a245bb46"
      },
      "source": [
        "A.method1(d)"
      ],
      "id": "eed0b023",
      "execution_count": null,
      "outputs": [
        {
          "name": "stdout",
          "output_type": "stream",
          "text": [
            "A class method is called\n"
          ]
        }
      ]
    },
    {
      "cell_type": "code",
      "metadata": {
        "id": "5e099843"
      },
      "source": [
        ""
      ],
      "id": "5e099843",
      "execution_count": null,
      "outputs": []
    }
  ]
}