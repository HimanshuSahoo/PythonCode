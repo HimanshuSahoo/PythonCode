{
  "nbformat": 4,
  "nbformat_minor": 5,
  "metadata": {
    "kernelspec": {
      "display_name": "Python 3",
      "language": "python",
      "name": "python3"
    },
    "language_info": {
      "codemirror_mode": {
        "name": "ipython",
        "version": 3
      },
      "file_extension": ".py",
      "mimetype": "text/x-python",
      "name": "python",
      "nbconvert_exporter": "python",
      "pygments_lexer": "ipython3",
      "version": "3.8.8"
    },
    "toc": {
      "base_numbering": 1,
      "nav_menu": {},
      "number_sections": true,
      "sideBar": true,
      "skip_h1_title": false,
      "title_cell": "Table of Contents",
      "title_sidebar": "Contents",
      "toc_cell": false,
      "toc_position": {},
      "toc_section_display": true,
      "toc_window_display": false
    },
    "varInspector": {
      "cols": {
        "lenName": 16,
        "lenType": 16,
        "lenVar": 40
      },
      "kernels_config": {
        "python": {
          "delete_cmd_postfix": "",
          "delete_cmd_prefix": "del ",
          "library": "var_list.py",
          "varRefreshCmd": "print(var_dic_list())"
        },
        "r": {
          "delete_cmd_postfix": ") ",
          "delete_cmd_prefix": "rm(",
          "library": "var_list.r",
          "varRefreshCmd": "cat(var_dic_list()) "
        }
      },
      "types_to_exclude": [
        "module",
        "function",
        "builtin_function_or_method",
        "instance",
        "_Feature"
      ],
      "window_display": false
    },
    "colab": {
      "name": "Advance Python Series- Public Private And Protected.ipynb",
      "provenance": [],
      "include_colab_link": true
    }
  },
  "cells": [
    {
      "cell_type": "markdown",
      "metadata": {
        "id": "view-in-github",
        "colab_type": "text"
      },
      "source": [
        "<a href=\"https://colab.research.google.com/github/HimanshuSahoo/PythonCode/blob/main/Advance_Python_Series_Public_Private_And_Protected.ipynb\" target=\"_parent\"><img src=\"https://colab.research.google.com/assets/colab-badge.svg\" alt=\"Open In Colab\"/></a>"
      ]
    },
    {
      "cell_type": "markdown",
      "metadata": {
        "id": "fb687047"
      },
      "source": [
        "## Python OOPS- Public, Protected And Private"
      ],
      "id": "fb687047"
    },
    {
      "cell_type": "code",
      "metadata": {
        "id": "05f09b63"
      },
      "source": [
        "### All the class variables are public\n",
        "class Car():\n",
        "    def __init__(self,windows,doors,enginetype):\n",
        "        self.windows=windows\n",
        "        self.doors=doors\n",
        "        self.enginetype=enginetype"
      ],
      "id": "05f09b63",
      "execution_count": null,
      "outputs": []
    },
    {
      "cell_type": "code",
      "metadata": {
        "id": "51d43c02"
      },
      "source": [
        "audi=Car(4,5,\"Diesel\")"
      ],
      "id": "51d43c02",
      "execution_count": null,
      "outputs": []
    },
    {
      "cell_type": "code",
      "metadata": {
        "id": "ba683275"
      },
      "source": [
        "audi.windows=5"
      ],
      "id": "ba683275",
      "execution_count": null,
      "outputs": []
    },
    {
      "cell_type": "code",
      "metadata": {
        "id": "c5a5168d",
        "outputId": "be29e6b2-aff0-4179-be56-ebb1ab5f312d"
      },
      "source": [
        "audi.windows"
      ],
      "id": "c5a5168d",
      "execution_count": null,
      "outputs": [
        {
          "data": {
            "text/plain": [
              "5"
            ]
          },
          "execution_count": 5,
          "metadata": {},
          "output_type": "execute_result"
        }
      ]
    },
    {
      "cell_type": "code",
      "metadata": {
        "id": "91b9b59f"
      },
      "source": [
        "### All the class variables are protected\n",
        "class Car():\n",
        "    def __init__(self,windows,doors,enginetype):\n",
        "        self._windows=windows\n",
        "        self._doors=doors\n",
        "        self._enginetype=enginetype"
      ],
      "id": "91b9b59f",
      "execution_count": null,
      "outputs": []
    },
    {
      "cell_type": "code",
      "metadata": {
        "id": "8ffd0f8b"
      },
      "source": [
        "class Truck(Car):\n",
        "    def __init__(self,windows,doors,enginetype,horsepower):\n",
        "        super().__init__(windows,doors,enginetype)\n",
        "        self.horsepowwer=horsepower"
      ],
      "id": "8ffd0f8b",
      "execution_count": null,
      "outputs": []
    },
    {
      "cell_type": "code",
      "metadata": {
        "scrolled": true,
        "id": "6fa4fe0a",
        "outputId": "31e9ea3a-4e13-438d-ebc0-035da03e6ea7"
      },
      "source": [
        "truck=Truck(4,4,\"Diesel\",4000)\n",
        "dir(truck)"
      ],
      "id": "6fa4fe0a",
      "execution_count": null,
      "outputs": [
        {
          "data": {
            "text/plain": [
              "['__class__',\n",
              " '__delattr__',\n",
              " '__dict__',\n",
              " '__dir__',\n",
              " '__doc__',\n",
              " '__eq__',\n",
              " '__format__',\n",
              " '__ge__',\n",
              " '__getattribute__',\n",
              " '__gt__',\n",
              " '__hash__',\n",
              " '__init__',\n",
              " '__init_subclass__',\n",
              " '__le__',\n",
              " '__lt__',\n",
              " '__module__',\n",
              " '__ne__',\n",
              " '__new__',\n",
              " '__reduce__',\n",
              " '__reduce_ex__',\n",
              " '__repr__',\n",
              " '__setattr__',\n",
              " '__sizeof__',\n",
              " '__str__',\n",
              " '__subclasshook__',\n",
              " '__weakref__',\n",
              " '_doors',\n",
              " '_enginetype',\n",
              " '_windows',\n",
              " 'horsepowwer']"
            ]
          },
          "execution_count": 11,
          "metadata": {},
          "output_type": "execute_result"
        }
      ]
    },
    {
      "cell_type": "code",
      "metadata": {
        "id": "ca0a9267"
      },
      "source": [
        "truck._doors=5"
      ],
      "id": "ca0a9267",
      "execution_count": null,
      "outputs": []
    },
    {
      "cell_type": "code",
      "metadata": {
        "id": "4e9adad2",
        "outputId": "84527d20-4a1b-453d-cc3c-f22d0b39bcf4"
      },
      "source": [
        "truck._doors"
      ],
      "id": "4e9adad2",
      "execution_count": null,
      "outputs": [
        {
          "data": {
            "text/plain": [
              "5"
            ]
          },
          "execution_count": 13,
          "metadata": {},
          "output_type": "execute_result"
        }
      ]
    },
    {
      "cell_type": "code",
      "metadata": {
        "id": "d9cab162"
      },
      "source": [
        "### private\n",
        "class Car():\n",
        "    def __init__(self,windows,doors,enginetype):\n",
        "        self.__windows=windows\n",
        "        self.__doors=doors\n",
        "        self.__enginetype=enginetype"
      ],
      "id": "d9cab162",
      "execution_count": null,
      "outputs": []
    },
    {
      "cell_type": "code",
      "metadata": {
        "id": "80010454"
      },
      "source": [
        "audi=Car(4,4,\"Diesel\")"
      ],
      "id": "80010454",
      "execution_count": null,
      "outputs": []
    },
    {
      "cell_type": "code",
      "metadata": {
        "id": "02540953"
      },
      "source": [
        "audi._Car__doors=5"
      ],
      "id": "02540953",
      "execution_count": null,
      "outputs": []
    },
    {
      "cell_type": "code",
      "metadata": {
        "id": "5bfd2e26",
        "outputId": "9c568c08-f0da-40be-b0a9-15d57fa3f47c"
      },
      "source": [
        "dir(audi)"
      ],
      "id": "5bfd2e26",
      "execution_count": null,
      "outputs": [
        {
          "data": {
            "text/plain": [
              "['_Car__doors',\n",
              " '_Car__enginetype',\n",
              " '_Car__windows',\n",
              " '__class__',\n",
              " '__delattr__',\n",
              " '__dict__',\n",
              " '__dir__',\n",
              " '__doc__',\n",
              " '__eq__',\n",
              " '__format__',\n",
              " '__ge__',\n",
              " '__getattribute__',\n",
              " '__gt__',\n",
              " '__hash__',\n",
              " '__init__',\n",
              " '__init_subclass__',\n",
              " '__le__',\n",
              " '__lt__',\n",
              " '__module__',\n",
              " '__ne__',\n",
              " '__new__',\n",
              " '__reduce__',\n",
              " '__reduce_ex__',\n",
              " '__repr__',\n",
              " '__setattr__',\n",
              " '__sizeof__',\n",
              " '__str__',\n",
              " '__subclasshook__',\n",
              " '__weakref__']"
            ]
          },
          "execution_count": 18,
          "metadata": {},
          "output_type": "execute_result"
        }
      ]
    },
    {
      "cell_type": "code",
      "metadata": {
        "id": "3afe906e"
      },
      "source": [
        ""
      ],
      "id": "3afe906e",
      "execution_count": null,
      "outputs": []
    }
  ]
}