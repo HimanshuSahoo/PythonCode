{
  "nbformat": 4,
  "nbformat_minor": 5,
  "metadata": {
    "kernelspec": {
      "display_name": "Python 3",
      "language": "python",
      "name": "python3"
    },
    "language_info": {
      "codemirror_mode": {
        "name": "ipython",
        "version": 3
      },
      "file_extension": ".py",
      "mimetype": "text/x-python",
      "name": "python",
      "nbconvert_exporter": "python",
      "pygments_lexer": "ipython3",
      "version": "3.8.8"
    },
    "toc": {
      "base_numbering": 1,
      "nav_menu": {},
      "number_sections": true,
      "sideBar": true,
      "skip_h1_title": false,
      "title_cell": "Table of Contents",
      "title_sidebar": "Contents",
      "toc_cell": false,
      "toc_position": {},
      "toc_section_display": true,
      "toc_window_display": false
    },
    "varInspector": {
      "cols": {
        "lenName": 16,
        "lenType": 16,
        "lenVar": 40
      },
      "kernels_config": {
        "python": {
          "delete_cmd_postfix": "",
          "delete_cmd_prefix": "del ",
          "library": "var_list.py",
          "varRefreshCmd": "print(var_dic_list())"
        },
        "r": {
          "delete_cmd_postfix": ") ",
          "delete_cmd_prefix": "rm(",
          "library": "var_list.r",
          "varRefreshCmd": "cat(var_dic_list()) "
        }
      },
      "types_to_exclude": [
        "module",
        "function",
        "builtin_function_or_method",
        "instance",
        "_Feature"
      ],
      "window_display": false
    },
    "colab": {
      "name": "Python Eval() Functions.ipynb",
      "provenance": [],
      "include_colab_link": true
    }
  },
  "cells": [
    {
      "cell_type": "markdown",
      "metadata": {
        "id": "view-in-github",
        "colab_type": "text"
      },
      "source": [
        "<a href=\"https://colab.research.google.com/github/HimanshuSahoo/PythonCode/blob/main/Python_Eval()_Functions.ipynb\" target=\"_parent\"><img src=\"https://colab.research.google.com/assets/colab-badge.svg\" alt=\"Open In Colab\"/></a>"
      ]
    },
    {
      "cell_type": "markdown",
      "metadata": {
        "id": "4a042396"
      },
      "source": [
        "## Python Eval Function--Evaluating Expressions Dynamically"
      ],
      "id": "4a042396"
    },
    {
      "cell_type": "code",
      "metadata": {
        "id": "33418aae",
        "outputId": "c064b204-b730-4d0a-f464-0fb05335771e"
      },
      "source": [
        "5*5+"
      ],
      "id": "33418aae",
      "execution_count": null,
      "outputs": [
        {
          "ename": "SyntaxError",
          "evalue": "invalid syntax (<ipython-input-2-0b77fe29dd1c>, line 1)",
          "output_type": "error",
          "traceback": [
            "\u001b[1;36m  File \u001b[1;32m\"<ipython-input-2-0b77fe29dd1c>\"\u001b[1;36m, line \u001b[1;32m1\u001b[0m\n\u001b[1;33m    5*5+\u001b[0m\n\u001b[1;37m        ^\u001b[0m\n\u001b[1;31mSyntaxError\u001b[0m\u001b[1;31m:\u001b[0m invalid syntax\n"
          ]
        }
      ]
    },
    {
      "cell_type": "code",
      "metadata": {
        "id": "2c911c5d",
        "outputId": "ca23eaed-65fa-4f63-a4ab-658dbd11f590"
      },
      "source": [
        "##Eval function evaluate python expression which are written as strings\n",
        "eval(\"5*5+7/2\")"
      ],
      "id": "2c911c5d",
      "execution_count": null,
      "outputs": [
        {
          "data": {
            "text/plain": [
              "28.5"
            ]
          },
          "execution_count": 3,
          "metadata": {},
          "output_type": "execute_result"
        }
      ]
    },
    {
      "cell_type": "code",
      "metadata": {
        "id": "602f6e0c",
        "outputId": "50a7be85-2158-40fd-b828-c96940298a74"
      },
      "source": [
        "eval(input(\"Enter the python expression \"))"
      ],
      "id": "602f6e0c",
      "execution_count": null,
      "outputs": [
        {
          "name": "stdout",
          "output_type": "stream",
          "text": [
            "Enter the python expression 4\n"
          ]
        },
        {
          "data": {
            "text/plain": [
              "4"
            ]
          },
          "execution_count": 4,
          "metadata": {},
          "output_type": "execute_result"
        }
      ]
    },
    {
      "cell_type": "code",
      "metadata": {
        "id": "700a55bc",
        "outputId": "c489b08a-6855-4a9d-9684-d551da9727bd"
      },
      "source": [
        "sum([1,2,3,4,5])"
      ],
      "id": "700a55bc",
      "execution_count": null,
      "outputs": [
        {
          "data": {
            "text/plain": [
              "15"
            ]
          },
          "execution_count": 5,
          "metadata": {},
          "output_type": "execute_result"
        }
      ]
    },
    {
      "cell_type": "code",
      "metadata": {
        "id": "63588277"
      },
      "source": [
        "def square_num(num):\n",
        "    return num**2"
      ],
      "id": "63588277",
      "execution_count": null,
      "outputs": []
    },
    {
      "cell_type": "code",
      "metadata": {
        "id": "ec4a0efa",
        "outputId": "ed1b9586-aba1-4528-837d-e06dab02cd99"
      },
      "source": [
        "eval(\"square_num(2)\")"
      ],
      "id": "ec4a0efa",
      "execution_count": null,
      "outputs": [
        {
          "data": {
            "text/plain": [
              "4"
            ]
          },
          "execution_count": 7,
          "metadata": {},
          "output_type": "execute_result"
        }
      ]
    },
    {
      "cell_type": "markdown",
      "metadata": {
        "id": "cf1eefb5"
      },
      "source": [
        "### How does Eval work\n",
        "\n",
        "Parse python Expression\n",
        "\n",
        "compile into a byte code\n",
        "\n",
        "Evaluate the python expression\n",
        "\n",
        "It will return the result"
      ],
      "id": "cf1eefb5"
    },
    {
      "cell_type": "code",
      "metadata": {
        "id": "c99ce8c3"
      },
      "source": [
        "var=compile(\"5*5\",\"<string>\",\"eval\")"
      ],
      "id": "c99ce8c3",
      "execution_count": null,
      "outputs": []
    },
    {
      "cell_type": "code",
      "metadata": {
        "id": "380f6a31",
        "outputId": "30f84087-a56a-4c67-a5ee-3327e071ca17"
      },
      "source": [
        "eval(var)"
      ],
      "id": "380f6a31",
      "execution_count": null,
      "outputs": [
        {
          "data": {
            "text/plain": [
              "25"
            ]
          },
          "execution_count": 9,
          "metadata": {},
          "output_type": "execute_result"
        }
      ]
    },
    {
      "cell_type": "code",
      "metadata": {
        "id": "49b2eef4",
        "outputId": "5aa426dd-8054-4856-d40b-5dbffccdff3a"
      },
      "source": [
        "### GLobals\n",
        "x=10\n",
        "eval(\"x+50+x**2\",{\"x\":x})"
      ],
      "id": "49b2eef4",
      "execution_count": null,
      "outputs": [
        {
          "data": {
            "text/plain": [
              "160"
            ]
          },
          "execution_count": 11,
          "metadata": {},
          "output_type": "execute_result"
        }
      ]
    },
    {
      "cell_type": "code",
      "metadata": {
        "id": "ad210039",
        "outputId": "33dd5c22-984a-47d1-c789-65f63c201b7f"
      },
      "source": [
        "x=100\n",
        "z=100\n",
        "eval(\"x+z+w\",{\"x\":x,\"z\":100,\"w\":1000})"
      ],
      "id": "ad210039",
      "execution_count": null,
      "outputs": [
        {
          "data": {
            "text/plain": [
              "1200"
            ]
          },
          "execution_count": 12,
          "metadata": {},
          "output_type": "execute_result"
        }
      ]
    },
    {
      "cell_type": "code",
      "metadata": {
        "id": "faf34642",
        "outputId": "53cf6efe-de19-4c36-a86b-c1cbc4967f31"
      },
      "source": [
        "x=100\n",
        "z=100\n",
        "y=10000\n",
        "eval(\"x+z+y\")"
      ],
      "id": "faf34642",
      "execution_count": null,
      "outputs": [
        {
          "data": {
            "text/plain": [
              "10200"
            ]
          },
          "execution_count": 13,
          "metadata": {},
          "output_type": "execute_result"
        }
      ]
    },
    {
      "cell_type": "code",
      "metadata": {
        "id": "64dee304",
        "outputId": "9e09d497-e833-4b8a-dcca-a21f9d14e003"
      },
      "source": [
        "eval(\"a+b+c\",{},{\"a\":100,\"b\":200,\"c\":1000})"
      ],
      "id": "64dee304",
      "execution_count": null,
      "outputs": [
        {
          "data": {
            "text/plain": [
              "1300"
            ]
          },
          "execution_count": 14,
          "metadata": {},
          "output_type": "execute_result"
        }
      ]
    },
    {
      "cell_type": "code",
      "metadata": {
        "id": "80bfc521",
        "outputId": "ca863e82-356e-42dd-95f0-924cc240f141"
      },
      "source": [
        "a=100\n",
        "b=200x=100\n",
        "y=100\n",
        "eval(\"x+y\",{},{})\n",
        "eval(\"a<b\")x=100\n",
        "y=100\n",
        "eval(\"x+y\",{},{})"
      ],
      "id": "80bfc521",
      "execution_count": null,
      "outputs": [
        {
          "ename": "SyntaxError",
          "evalue": "invalid syntax (<ipython-input-16-2554bf69ae3d>, line 2)",
          "output_type": "error",
          "traceback": [
            "\u001b[1;36m  File \u001b[1;32m\"<ipython-input-16-2554bf69ae3d>\"\u001b[1;36m, line \u001b[1;32m2\u001b[0m\n\u001b[1;33m    b=200x=100\u001b[0m\n\u001b[1;37m         ^\u001b[0m\n\u001b[1;31mSyntaxError\u001b[0m\u001b[1;31m:\u001b[0m invalid syntax\n"
          ]
        }
      ]
    },
    {
      "cell_type": "code",
      "metadata": {
        "id": "966781ab"
      },
      "source": [
        ""
      ],
      "id": "966781ab",
      "execution_count": null,
      "outputs": []
    }
  ]
}