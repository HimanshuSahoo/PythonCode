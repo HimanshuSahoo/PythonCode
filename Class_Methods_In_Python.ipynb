{
  "nbformat": 4,
  "nbformat_minor": 5,
  "metadata": {
    "kernelspec": {
      "display_name": "Python 3",
      "language": "python",
      "name": "python3"
    },
    "language_info": {
      "codemirror_mode": {
        "name": "ipython",
        "version": 3
      },
      "file_extension": ".py",
      "mimetype": "text/x-python",
      "name": "python",
      "nbconvert_exporter": "python",
      "pygments_lexer": "ipython3",
      "version": "3.8.8"
    },
    "toc": {
      "base_numbering": 1,
      "nav_menu": {},
      "number_sections": true,
      "sideBar": true,
      "skip_h1_title": false,
      "title_cell": "Table of Contents",
      "title_sidebar": "Contents",
      "toc_cell": false,
      "toc_position": {},
      "toc_section_display": true,
      "toc_window_display": false
    },
    "varInspector": {
      "cols": {
        "lenName": 16,
        "lenType": 16,
        "lenVar": 40
      },
      "kernels_config": {
        "python": {
          "delete_cmd_postfix": "",
          "delete_cmd_prefix": "del ",
          "library": "var_list.py",
          "varRefreshCmd": "print(var_dic_list())"
        },
        "r": {
          "delete_cmd_postfix": ") ",
          "delete_cmd_prefix": "rm(",
          "library": "var_list.r",
          "varRefreshCmd": "cat(var_dic_list()) "
        }
      },
      "types_to_exclude": [
        "module",
        "function",
        "builtin_function_or_method",
        "instance",
        "_Feature"
      ],
      "window_display": false
    },
    "colab": {
      "name": "Class Methods In Python.ipynb",
      "provenance": [],
      "include_colab_link": true
    }
  },
  "cells": [
    {
      "cell_type": "markdown",
      "metadata": {
        "id": "view-in-github",
        "colab_type": "text"
      },
      "source": [
        "<a href=\"https://colab.research.google.com/github/HimanshuSahoo/PythonCode/blob/main/Class_Methods_In_Python.ipynb\" target=\"_parent\"><img src=\"https://colab.research.google.com/assets/colab-badge.svg\" alt=\"Open In Colab\"/></a>"
      ]
    },
    {
      "cell_type": "markdown",
      "metadata": {
        "id": "38643100"
      },
      "source": [
        "## Class Methods and Class Variables"
      ],
      "id": "38643100"
    },
    {
      "cell_type": "code",
      "metadata": {
        "id": "17880d6f"
      },
      "source": [
        "class Car:\n",
        "    base_price=100000 ##Class Variables\n",
        "    def __init__(self,windows,doors,power):\n",
        "        self.windows=windows\n",
        "        self.doors=doors\n",
        "        self.power=power\n",
        "    def what_base_price(self):\n",
        "        print(\"The base price is {}\".format(self.base_price))\n",
        "    @classmethod\n",
        "    def revise_base_price(cls,inflation):\n",
        "        cls.base_price=cls.base_price+cls.base_price*inflation"
      ],
      "id": "17880d6f",
      "execution_count": null,
      "outputs": []
    },
    {
      "cell_type": "code",
      "metadata": {
        "id": "e7931f26"
      },
      "source": [
        "Car.revise_base_price(0.10)"
      ],
      "id": "e7931f26",
      "execution_count": null,
      "outputs": []
    },
    {
      "cell_type": "code",
      "metadata": {
        "id": "ef7076d8",
        "outputId": "f6bf4f8d-f8b8-4373-ef1d-85d40f9f9d70"
      },
      "source": [
        "Car.base_price"
      ],
      "id": "ef7076d8",
      "execution_count": null,
      "outputs": [
        {
          "data": {
            "text/plain": [
              "110000.0"
            ]
          },
          "execution_count": 3,
          "metadata": {},
          "output_type": "execute_result"
        }
      ]
    },
    {
      "cell_type": "code",
      "metadata": {
        "id": "f5bf863f"
      },
      "source": [
        "car1=Car(4,5,2000)"
      ],
      "id": "f5bf863f",
      "execution_count": null,
      "outputs": []
    },
    {
      "cell_type": "code",
      "metadata": {
        "id": "9e3b4420",
        "outputId": "b06ee71b-f634-4cb7-84b4-5eab2de70a98"
      },
      "source": [
        "car1.base_price"
      ],
      "id": "9e3b4420",
      "execution_count": null,
      "outputs": [
        {
          "data": {
            "text/plain": [
              "110000.0"
            ]
          },
          "execution_count": 5,
          "metadata": {},
          "output_type": "execute_result"
        }
      ]
    },
    {
      "cell_type": "code",
      "metadata": {
        "id": "659133ff"
      },
      "source": [
        "car1.revise_base_price(0.10)"
      ],
      "id": "659133ff",
      "execution_count": null,
      "outputs": []
    },
    {
      "cell_type": "code",
      "metadata": {
        "id": "952849ff",
        "outputId": "8fa3e20a-17aa-4fd0-f502-526eac0d785b"
      },
      "source": [
        "car1.base_price"
      ],
      "id": "952849ff",
      "execution_count": null,
      "outputs": [
        {
          "data": {
            "text/plain": [
              "121000.0"
            ]
          },
          "execution_count": 7,
          "metadata": {},
          "output_type": "execute_result"
        }
      ]
    },
    {
      "cell_type": "code",
      "metadata": {
        "id": "ce9071aa"
      },
      "source": [
        "car3=Car(3,4,2000)"
      ],
      "id": "ce9071aa",
      "execution_count": null,
      "outputs": []
    },
    {
      "cell_type": "code",
      "metadata": {
        "id": "0b535737",
        "outputId": "ad18621a-92ba-4b6f-de8b-e4bb2326016a"
      },
      "source": [
        "car3.base_price"
      ],
      "id": "0b535737",
      "execution_count": null,
      "outputs": [
        {
          "data": {
            "text/plain": [
              "121000.0"
            ]
          },
          "execution_count": 9,
          "metadata": {},
          "output_type": "execute_result"
        }
      ]
    },
    {
      "cell_type": "code",
      "metadata": {
        "id": "13f13cae"
      },
      "source": [
        ""
      ],
      "id": "13f13cae",
      "execution_count": null,
      "outputs": []
    }
  ]
}