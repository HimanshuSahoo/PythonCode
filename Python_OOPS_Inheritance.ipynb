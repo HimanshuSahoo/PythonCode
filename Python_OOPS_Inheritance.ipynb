{
  "cells": [
    {
      "cell_type": "markdown",
      "metadata": {
        "id": "view-in-github",
        "colab_type": "text"
      },
      "source": [
        "<a href=\"https://colab.research.google.com/github/HimanshuSahoo/PythonCode/blob/main/Python_OOPS_Inheritance.ipynb\" target=\"_parent\"><img src=\"https://colab.research.google.com/assets/colab-badge.svg\" alt=\"Open In Colab\"/></a>"
      ]
    },
    {
      "cell_type": "code",
      "execution_count": null,
      "id": "d834fc56",
      "metadata": {
        "id": "d834fc56"
      },
      "outputs": [],
      "source": [
        "### All the class variables are public\n",
        "### Car Blueprint\n",
        "class Car():\n",
        "    def __init__(self,windows,doors,enginetype):\n",
        "        self.windows=windows\n",
        "        self.doors=doors\n",
        "        self.enginetype=enginetype\n",
        "    def drive(self):\n",
        "        print(\"The Person drives the car\")"
      ]
    },
    {
      "cell_type": "code",
      "execution_count": null,
      "id": "8d729875",
      "metadata": {
        "id": "8d729875"
      },
      "outputs": [],
      "source": [
        "car=Car(4,5,\"diesel\")"
      ]
    },
    {
      "cell_type": "code",
      "execution_count": null,
      "id": "25726978",
      "metadata": {
        "id": "25726978",
        "outputId": "de5054fb-6224-432e-f46b-af1c448c7ca7"
      },
      "outputs": [
        {
          "name": "stdout",
          "output_type": "stream",
          "text": [
            "The Person drives the car\n"
          ]
        }
      ],
      "source": [
        "car.drive()"
      ]
    },
    {
      "cell_type": "code",
      "execution_count": null,
      "id": "9971ec8a",
      "metadata": {
        "id": "9971ec8a"
      },
      "outputs": [],
      "source": [
        "class audi(Car):\n",
        "    def __init__(self,windows,doors,enginetype,enableai):\n",
        "        super().__init__(windows,doors,enginetype)\n",
        "        self.enableai=enableai\n",
        "    def selfdriving(self):\n",
        "        print(\"Audi supports Self driving\")\n",
        "        "
      ]
    },
    {
      "cell_type": "code",
      "execution_count": null,
      "id": "9064f2f8",
      "metadata": {
        "id": "9064f2f8"
      },
      "outputs": [],
      "source": [
        "audiQ7=audi(5,5,\"diesel\",True)"
      ]
    },
    {
      "cell_type": "code",
      "execution_count": null,
      "id": "16a3570e",
      "metadata": {
        "id": "16a3570e",
        "outputId": "0719f915-57cf-4643-ab36-79d77e53a162"
      },
      "outputs": [
        {
          "name": "stdout",
          "output_type": "stream",
          "text": [
            "Audi supports Self driving\n"
          ]
        }
      ],
      "source": [
        "audiQ7.selfdriving()"
      ]
    },
    {
      "cell_type": "code",
      "execution_count": null,
      "id": "abb307cb",
      "metadata": {
        "id": "abb307cb"
      },
      "outputs": [],
      "source": [
        ""
      ]
    }
  ],
  "metadata": {
    "kernelspec": {
      "display_name": "Python 3",
      "language": "python",
      "name": "python3"
    },
    "language_info": {
      "codemirror_mode": {
        "name": "ipython",
        "version": 3
      },
      "file_extension": ".py",
      "mimetype": "text/x-python",
      "name": "python",
      "nbconvert_exporter": "python",
      "pygments_lexer": "ipython3",
      "version": "3.8.8"
    },
    "toc": {
      "base_numbering": 1,
      "nav_menu": {},
      "number_sections": true,
      "sideBar": true,
      "skip_h1_title": false,
      "title_cell": "Table of Contents",
      "title_sidebar": "Contents",
      "toc_cell": false,
      "toc_position": {},
      "toc_section_display": true,
      "toc_window_display": false
    },
    "varInspector": {
      "cols": {
        "lenName": 16,
        "lenType": 16,
        "lenVar": 40
      },
      "kernels_config": {
        "python": {
          "delete_cmd_postfix": "",
          "delete_cmd_prefix": "del ",
          "library": "var_list.py",
          "varRefreshCmd": "print(var_dic_list())"
        },
        "r": {
          "delete_cmd_postfix": ") ",
          "delete_cmd_prefix": "rm(",
          "library": "var_list.r",
          "varRefreshCmd": "cat(var_dic_list()) "
        }
      },
      "types_to_exclude": [
        "module",
        "function",
        "builtin_function_or_method",
        "instance",
        "_Feature"
      ],
      "window_display": false
    },
    "colab": {
      "name": "Python OOPS- Inheritance.ipynb",
      "provenance": [],
      "include_colab_link": true
    }
  },
  "nbformat": 4,
  "nbformat_minor": 5
}