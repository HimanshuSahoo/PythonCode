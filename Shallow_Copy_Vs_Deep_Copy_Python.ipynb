{
  "nbformat": 4,
  "nbformat_minor": 5,
  "metadata": {
    "kernelspec": {
      "display_name": "Python 3",
      "language": "python",
      "name": "python3"
    },
    "language_info": {
      "codemirror_mode": {
        "name": "ipython",
        "version": 3
      },
      "file_extension": ".py",
      "mimetype": "text/x-python",
      "name": "python",
      "nbconvert_exporter": "python",
      "pygments_lexer": "ipython3",
      "version": "3.8.8"
    },
    "toc": {
      "base_numbering": 1,
      "nav_menu": {},
      "number_sections": true,
      "sideBar": true,
      "skip_h1_title": false,
      "title_cell": "Table of Contents",
      "title_sidebar": "Contents",
      "toc_cell": false,
      "toc_position": {},
      "toc_section_display": true,
      "toc_window_display": false
    },
    "varInspector": {
      "cols": {
        "lenName": 16,
        "lenType": 16,
        "lenVar": 40
      },
      "kernels_config": {
        "python": {
          "delete_cmd_postfix": "",
          "delete_cmd_prefix": "del ",
          "library": "var_list.py",
          "varRefreshCmd": "print(var_dic_list())"
        },
        "r": {
          "delete_cmd_postfix": ") ",
          "delete_cmd_prefix": "rm(",
          "library": "var_list.r",
          "varRefreshCmd": "cat(var_dic_list()) "
        }
      },
      "types_to_exclude": [
        "module",
        "function",
        "builtin_function_or_method",
        "instance",
        "_Feature"
      ],
      "window_display": false
    },
    "colab": {
      "name": "Shallow Copy Vs Deep Copy Python.ipynb",
      "provenance": [],
      "include_colab_link": true
    }
  },
  "cells": [
    {
      "cell_type": "markdown",
      "metadata": {
        "id": "view-in-github",
        "colab_type": "text"
      },
      "source": [
        "<a href=\"https://colab.research.google.com/github/HimanshuSahoo/PythonCode/blob/main/Shallow_Copy_Vs_Deep_Copy_Python.ipynb\" target=\"_parent\"><img src=\"https://colab.research.google.com/assets/colab-badge.svg\" alt=\"Open In Colab\"/></a>"
      ]
    },
    {
      "cell_type": "code",
      "metadata": {
        "id": "34883eab"
      },
      "source": [
        "## =,copy(),deepcopy()\n",
        "lst1=[1,2,3,4]\n",
        "lst2=lst1"
      ],
      "id": "34883eab",
      "execution_count": null,
      "outputs": []
    },
    {
      "cell_type": "code",
      "metadata": {
        "id": "5ddbb5d8"
      },
      "source": [
        "lst2[1]=1000"
      ],
      "id": "5ddbb5d8",
      "execution_count": null,
      "outputs": []
    },
    {
      "cell_type": "code",
      "metadata": {
        "id": "042644a0",
        "outputId": "6ad649c5-e676-48af-9d4e-23fb8303d96f"
      },
      "source": [
        "lst2"
      ],
      "id": "042644a0",
      "execution_count": null,
      "outputs": [
        {
          "data": {
            "text/plain": [
              "[1, 1000, 3, 4]"
            ]
          },
          "execution_count": 3,
          "metadata": {},
          "output_type": "execute_result"
        }
      ]
    },
    {
      "cell_type": "code",
      "metadata": {
        "id": "b39f1153",
        "outputId": "5610dbb1-92dc-45f3-d3ae-175b255a4d8a"
      },
      "source": [
        "lst1"
      ],
      "id": "b39f1153",
      "execution_count": null,
      "outputs": [
        {
          "data": {
            "text/plain": [
              "[1, 1000, 3, 4]"
            ]
          },
          "execution_count": 4,
          "metadata": {},
          "output_type": "execute_result"
        }
      ]
    },
    {
      "cell_type": "code",
      "metadata": {
        "id": "792e27cd"
      },
      "source": [
        "##copy\n",
        "## Shallow Copy\n",
        "lst1=[1,2,3,4]\n",
        "lst2=lst1.copy()"
      ],
      "id": "792e27cd",
      "execution_count": null,
      "outputs": []
    },
    {
      "cell_type": "code",
      "metadata": {
        "id": "bd32981d"
      },
      "source": [
        "lst2[1]=1000"
      ],
      "id": "bd32981d",
      "execution_count": null,
      "outputs": []
    },
    {
      "cell_type": "code",
      "metadata": {
        "id": "136fc240",
        "outputId": "9e967cb6-dea3-47bb-944e-f3837b6da45d"
      },
      "source": [
        "lst2,lst1"
      ],
      "id": "136fc240",
      "execution_count": null,
      "outputs": [
        {
          "data": {
            "text/plain": [
              "([1, 1000, 3, 4], [1, 2, 3, 4])"
            ]
          },
          "execution_count": 7,
          "metadata": {},
          "output_type": "execute_result"
        }
      ]
    },
    {
      "cell_type": "code",
      "metadata": {
        "id": "b83cea1e"
      },
      "source": [
        "## Shallow Copy nested list\n",
        "lst1=[[1,2,3,4],[5,6,7,8]]\n",
        "lst2=lst1.copy()"
      ],
      "id": "b83cea1e",
      "execution_count": null,
      "outputs": []
    },
    {
      "cell_type": "code",
      "metadata": {
        "id": "c55be8dd"
      },
      "source": [
        "lst1[1][0]=100"
      ],
      "id": "c55be8dd",
      "execution_count": null,
      "outputs": []
    },
    {
      "cell_type": "code",
      "metadata": {
        "id": "f04596fb",
        "outputId": "9e21e270-b060-4055-9542-16cdc44da12c"
      },
      "source": [
        "lst1"
      ],
      "id": "f04596fb",
      "execution_count": null,
      "outputs": [
        {
          "data": {
            "text/plain": [
              "[[1, 2, 3, 4], [100, 6, 7, 8]]"
            ]
          },
          "execution_count": 10,
          "metadata": {},
          "output_type": "execute_result"
        }
      ]
    },
    {
      "cell_type": "code",
      "metadata": {
        "id": "035f62ac",
        "outputId": "644d2931-0c0f-4720-e2b8-b739790708a8"
      },
      "source": [
        "lst2"
      ],
      "id": "035f62ac",
      "execution_count": null,
      "outputs": [
        {
          "data": {
            "text/plain": [
              "[[1, 2, 3, 4], [100, 6, 7, 8]]"
            ]
          },
          "execution_count": 11,
          "metadata": {},
          "output_type": "execute_result"
        }
      ]
    },
    {
      "cell_type": "code",
      "metadata": {
        "id": "10f75e01"
      },
      "source": [
        "lst1.append([2,3,4,5])"
      ],
      "id": "10f75e01",
      "execution_count": null,
      "outputs": []
    },
    {
      "cell_type": "code",
      "metadata": {
        "id": "ce0d071b",
        "outputId": "4ce086fa-9a72-4fc5-eb95-4654919d246f"
      },
      "source": [
        "lst1"
      ],
      "id": "ce0d071b",
      "execution_count": null,
      "outputs": [
        {
          "data": {
            "text/plain": [
              "[[1, 2, 3, 4], [100, 6, 7, 8], [2, 3, 4, 5]]"
            ]
          },
          "execution_count": 13,
          "metadata": {},
          "output_type": "execute_result"
        }
      ]
    },
    {
      "cell_type": "code",
      "metadata": {
        "id": "819cae6f",
        "outputId": "65e730c8-1298-45ff-bd3c-2189e0f6182d"
      },
      "source": [
        "lst2"
      ],
      "id": "819cae6f",
      "execution_count": null,
      "outputs": [
        {
          "data": {
            "text/plain": [
              "[[1, 2, 3, 4], [100, 6, 7, 8]]"
            ]
          },
          "execution_count": 14,
          "metadata": {},
          "output_type": "execute_result"
        }
      ]
    },
    {
      "cell_type": "code",
      "metadata": {
        "id": "564825c5"
      },
      "source": [
        "##deep copy\n",
        "import copy\n",
        "lst1=[1,2,3,4]\n",
        "lst2=copy.deepcopy(lst1)"
      ],
      "id": "564825c5",
      "execution_count": null,
      "outputs": []
    },
    {
      "cell_type": "code",
      "metadata": {
        "id": "e42f2009"
      },
      "source": [
        "lst2[1]=100"
      ],
      "id": "e42f2009",
      "execution_count": null,
      "outputs": []
    },
    {
      "cell_type": "code",
      "metadata": {
        "id": "df06eb94",
        "outputId": "f3379787-b15f-4dc6-918d-2a58c83cf3f8"
      },
      "source": [
        "lst2"
      ],
      "id": "df06eb94",
      "execution_count": null,
      "outputs": [
        {
          "data": {
            "text/plain": [
              "[1, 100, 3, 4]"
            ]
          },
          "execution_count": 17,
          "metadata": {},
          "output_type": "execute_result"
        }
      ]
    },
    {
      "cell_type": "code",
      "metadata": {
        "id": "28f44a94",
        "outputId": "d1e67e61-b112-420d-e2ab-1e291e07bf1c"
      },
      "source": [
        "lst1"
      ],
      "id": "28f44a94",
      "execution_count": null,
      "outputs": [
        {
          "data": {
            "text/plain": [
              "[1, 2, 3, 4]"
            ]
          },
          "execution_count": 18,
          "metadata": {},
          "output_type": "execute_result"
        }
      ]
    },
    {
      "cell_type": "code",
      "metadata": {
        "id": "51c35353"
      },
      "source": [
        "### In a normal list shallow ===deep copy"
      ],
      "id": "51c35353",
      "execution_count": null,
      "outputs": []
    },
    {
      "cell_type": "code",
      "metadata": {
        "id": "b198ef32"
      },
      "source": [
        "lst1=[[1,2,3],[3,4,5,],[5,6,7]]\n",
        "lst2=lst1.copy()"
      ],
      "id": "b198ef32",
      "execution_count": null,
      "outputs": []
    },
    {
      "cell_type": "code",
      "metadata": {
        "id": "700ee4e2"
      },
      "source": [
        "lst1=[[1,2,3],[3,4,5,],[5,6,7]]\n",
        "lst2=copy.deepcopy(lst1)"
      ],
      "id": "700ee4e2",
      "execution_count": null,
      "outputs": []
    },
    {
      "cell_type": "code",
      "metadata": {
        "id": "3130a7a2"
      },
      "source": [
        "lst2[1][0]=100"
      ],
      "id": "3130a7a2",
      "execution_count": null,
      "outputs": []
    },
    {
      "cell_type": "code",
      "metadata": {
        "id": "50b97f6d",
        "outputId": "a1b40387-ceea-436b-89cc-18e85dd1a788"
      },
      "source": [
        "lst2"
      ],
      "id": "50b97f6d",
      "execution_count": null,
      "outputs": [
        {
          "data": {
            "text/plain": [
              "[[1, 2, 3], [100, 4, 5], [5, 6, 7]]"
            ]
          },
          "execution_count": 23,
          "metadata": {},
          "output_type": "execute_result"
        }
      ]
    },
    {
      "cell_type": "code",
      "metadata": {
        "id": "6255c8c9",
        "outputId": "0a7485dc-1cb2-4aad-e458-f341aa09aafe"
      },
      "source": [
        "lst1"
      ],
      "id": "6255c8c9",
      "execution_count": null,
      "outputs": [
        {
          "data": {
            "text/plain": [
              "[[1, 2, 3], [3, 4, 5], [5, 6, 7]]"
            ]
          },
          "execution_count": 24,
          "metadata": {},
          "output_type": "execute_result"
        }
      ]
    },
    {
      "cell_type": "code",
      "metadata": {
        "id": "b316f502"
      },
      "source": [
        ""
      ],
      "id": "b316f502",
      "execution_count": null,
      "outputs": []
    }
  ]
}