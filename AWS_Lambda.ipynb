{
  "nbformat": 4,
  "nbformat_minor": 5,
  "metadata": {
    "kernelspec": {
      "display_name": "Python 3",
      "language": "python",
      "name": "python3"
    },
    "language_info": {
      "codemirror_mode": {
        "name": "ipython",
        "version": 3
      },
      "file_extension": ".py",
      "mimetype": "text/x-python",
      "name": "python",
      "nbconvert_exporter": "python",
      "pygments_lexer": "ipython3",
      "version": "3.8.8"
    },
    "toc": {
      "base_numbering": 1,
      "nav_menu": {},
      "number_sections": true,
      "sideBar": true,
      "skip_h1_title": false,
      "title_cell": "Table of Contents",
      "title_sidebar": "Contents",
      "toc_cell": false,
      "toc_position": {},
      "toc_section_display": true,
      "toc_window_display": false
    },
    "varInspector": {
      "cols": {
        "lenName": 16,
        "lenType": 16,
        "lenVar": 40
      },
      "kernels_config": {
        "python": {
          "delete_cmd_postfix": "",
          "delete_cmd_prefix": "del ",
          "library": "var_list.py",
          "varRefreshCmd": "print(var_dic_list())"
        },
        "r": {
          "delete_cmd_postfix": ") ",
          "delete_cmd_prefix": "rm(",
          "library": "var_list.r",
          "varRefreshCmd": "cat(var_dic_list()) "
        }
      },
      "types_to_exclude": [
        "module",
        "function",
        "builtin_function_or_method",
        "instance",
        "_Feature"
      ],
      "window_display": false
    },
    "colab": {
      "name": "AWS_Lambda.ipynb",
      "provenance": [],
      "include_colab_link": true
    }
  },
  "cells": [
    {
      "cell_type": "markdown",
      "metadata": {
        "id": "view-in-github",
        "colab_type": "text"
      },
      "source": [
        "<a href=\"https://colab.research.google.com/github/HimanshuSahoo/PythonCode/blob/main/AWS_Lambda.ipynb\" target=\"_parent\"><img src=\"https://colab.research.google.com/assets/colab-badge.svg\" alt=\"Open In Colab\"/></a>"
      ]
    },
    {
      "cell_type": "code",
      "metadata": {
        "id": "43686e77"
      },
      "source": [
        "import base64\n",
        "import json\n",
        "import boto3\n",
        "import datetime\n",
        "from datetime import date\n",
        "import time\n",
        "import configparser"
      ],
      "id": "43686e77",
      "execution_count": null,
      "outputs": []
    },
    {
      "cell_type": "code",
      "metadata": {
        "id": "d3670e24"
      },
      "source": [
        "config = configparser.ConfigParser()\n",
        "config.read('configuration.properties')"
      ],
      "id": "d3670e24",
      "execution_count": null,
      "outputs": []
    },
    {
      "cell_type": "code",
      "metadata": {
        "id": "04c92681"
      },
      "source": [
        "areaFile=config['MetadataFiles']['areaMetadata']\n",
        "siteFile=config['MetadataFiles']['sitesMetadata']\n",
        "bucketName=config['S3Configuration']['bucketName']\n",
        "s3FilePrefix=config['S3Configuration']['s3FilePrefix']\n",
        "s3FileSuffix=config['S3Configuration']['s3FileSuffix']\n",
        "filenameIntials=config['S3Configuration']['filename']\n",
        "fileExtension=config['S3Configuration']['fileExtension']"
      ],
      "id": "04c92681",
      "execution_count": null,
      "outputs": []
    },
    {
      "cell_type": "code",
      "metadata": {
        "id": "c7c704fd"
      },
      "source": [
        "print(areaFile,siteFile,bucketName,s3FilePrefix,filenameIntials,fileExtension)"
      ],
      "id": "c7c704fd",
      "execution_count": null,
      "outputs": []
    },
    {
      "cell_type": "code",
      "metadata": {
        "id": "c1d66137"
      },
      "source": [
        "def lambda_handler(event, context):\n",
        "    print(\"Received event: \" + json.dumps(event, indent=2))\n",
        "    "
      ],
      "id": "c1d66137",
      "execution_count": null,
      "outputs": []
    },
    {
      "cell_type": "code",
      "metadata": {
        "id": "f2e61c74"
      },
      "source": [
        "for record in event['Records']:\n",
        "        \n",
        "        #Kinesis data is base64 encoded so decode here\n",
        "        payload = base64.b64decode(record['kinesis']['data']).decode('utf-8')\n",
        "        payloadTest=payload\n",
        "        \n",
        "        payloadParsed=json.loads(payload)\n",
        "        areaId1=payloadParsed.get('areaId')\n",
        "        \n",
        "        \n",
        "        notificationType=payloadParsed.get('type')\n",
        "        \n",
        "        \n",
        "        \n",
        "        \n",
        "        if (notificationType=='COUNTING'):\n",
        "            payloadParsed['countIn']=None\n",
        "            payloadParsed['countOut']=None\n",
        "            finalPayload=json.dumps(payloadParsed)\n",
        "        elif (notificationType=='TRAFFIC'):\n",
        "            payloadParsed['count']=None\n",
        "            finalPayload=json.dumps(payloadParsed)"
      ],
      "id": "f2e61c74",
      "execution_count": null,
      "outputs": []
    },
    {
      "cell_type": "code",
      "metadata": {
        "id": "92467ae2"
      },
      "source": [
        "query1=\"SELECT d.siteId FROM S3Object[*].areas[*] d where d.id='%s'\"%(areaId1)"
      ],
      "id": "92467ae2",
      "execution_count": null,
      "outputs": []
    },
    {
      "cell_type": "code",
      "metadata": {
        "id": "8886b336"
      },
      "source": [
        "#below is the code for S3 select query\n",
        "        s3 = boto3.client('s3')\n",
        "        resp = s3.select_object_content(\n",
        "            Bucket=bucketName,\n",
        "            Key=areaFile,\n",
        "            ExpressionType='SQL',\n",
        "            Expression=query1,\n",
        "            InputSerialization = {'JSON': {\"Type\": \"Lines\"}},\n",
        "            OutputSerialization = {'JSON': {}}\n",
        "        )\n",
        "        "
      ],
      "id": "8886b336",
      "execution_count": null,
      "outputs": []
    },
    {
      "cell_type": "code",
      "metadata": {
        "id": "62171a46"
      },
      "source": [
        "print(\"response from query1 is : \",resp)"
      ],
      "id": "62171a46",
      "execution_count": null,
      "outputs": []
    },
    {
      "cell_type": "code",
      "metadata": {
        "id": "b9601037"
      },
      "source": [
        " count=0\n",
        "        for event in resp['Payload']:\n",
        "            if ('Records' in event) and (count==0):\n",
        "                records = event['Records']['Payload'].decode('utf-8')\n",
        "            elif 'Stats' in event and (count==0):\n",
        "                records=None\n",
        "            count=count+1"
      ],
      "id": "b9601037",
      "execution_count": null,
      "outputs": []
    },
    {
      "cell_type": "code",
      "metadata": {
        "id": "40e83d5e"
      },
      "source": [
        " if (records==None):\n",
        "            print(\"putting to unmapped country please update the metadata JSON of pointgrab related to areas\")\n",
        "            country='unmappedCountry'\n",
        "        elif (records != None):\n",
        "            parsedRecord=json.loads(records)     \n",
        "            siteId=parsedRecord.get('siteId')\n",
        "            \n",
        "            query2=\"SELECT d.location.country FROM S3Object[*].sites[*] d where d.id='%s'\"%(siteId)\n",
        "            \n",
        "            resp1 = s3.select_object_content(\n",
        "                Bucket=bucketName,\n",
        "                Key=siteFile,\n",
        "                ExpressionType='SQL',\n",
        "                Expression=query2,\n",
        "                InputSerialization = {'JSON': {\"Type\": \"Lines\"}},\n",
        "                OutputSerialization = {'JSON': {}}\n",
        "            )"
      ],
      "id": "40e83d5e",
      "execution_count": null,
      "outputs": []
    },
    {
      "cell_type": "code",
      "metadata": {
        "id": "2dff9caa"
      },
      "source": [
        "print(\"response from query2 is : \",resp1)\n",
        "            \n",
        "                \n",
        "            for event in resp1['Payload']:\n",
        "                if 'Records' in event:\n",
        "                    records1 = event['Records']['Payload'].decode('utf-8')\n",
        "                    #print(records1)    \n",
        "                    \n",
        "            parsedrecord1=json.loads(records1)\n",
        "            countryUpper=parsedrecord1.get(\"country\")\n",
        "            \n",
        "            country=countryUpper.lower()\n"
      ],
      "id": "2dff9caa",
      "execution_count": null,
      "outputs": []
    },
    {
      "cell_type": "code",
      "metadata": {
        "id": "5bb2f76b"
      },
      "source": [
        " today = str(date.today())"
      ],
      "id": "5bb2f76b",
      "execution_count": null,
      "outputs": []
    },
    {
      "cell_type": "code",
      "metadata": {
        "id": "542abfff"
      },
      "source": [
        " #s3://gwes-dev-data/sftp/pointgrab_data/testLambda/\n",
        "        #bucket='sftp/'+'pointgrab/'+country+'/'+'source/'+'sensor/'+today+'/'\n",
        "        bucket=s3FilePrefix + country +s3FileSuffix +today+'/'\n",
        "        x= datetime.datetime.now().strftime(\"%Y%m%d-%H%M%S\")\n",
        "        filename=filenameIntials + x\n",
        "        filepath=bucket+filename+fileExtension\n",
        "        print(\"path of S3 file is : \",filepath)\n",
        "        \n",
        "        encoded_string = payload.encode(\"utf-8\")"
      ],
      "id": "542abfff",
      "execution_count": null,
      "outputs": []
    },
    {
      "cell_type": "code",
      "metadata": {
        "id": "6cbbe3d7"
      },
      "source": [
        "s3 = boto3.resource(\"s3\")\n",
        "s3response=s3.Bucket(bucketName).put_object(Key=filepath, Body=finalPayload)\n",
        "print(\"response from S3 client is : \",s3response)\n",
        "    \n",
        "return \"lamba invocation ended\""
      ],
      "id": "6cbbe3d7",
      "execution_count": null,
      "outputs": []
    },
    {
      "cell_type": "code",
      "metadata": {
        "id": "bdd48e39"
      },
      "source": [
        ""
      ],
      "id": "bdd48e39",
      "execution_count": null,
      "outputs": []
    }
  ]
}