{
  "nbformat": 4,
  "nbformat_minor": 5,
  "metadata": {
    "kernelspec": {
      "display_name": "Python 3",
      "language": "python",
      "name": "python3"
    },
    "language_info": {
      "codemirror_mode": {
        "name": "ipython",
        "version": 3
      },
      "file_extension": ".py",
      "mimetype": "text/x-python",
      "name": "python",
      "nbconvert_exporter": "python",
      "pygments_lexer": "ipython3",
      "version": "3.8.8"
    },
    "toc": {
      "base_numbering": 1,
      "nav_menu": {},
      "number_sections": true,
      "sideBar": true,
      "skip_h1_title": false,
      "title_cell": "Table of Contents",
      "title_sidebar": "Contents",
      "toc_cell": false,
      "toc_position": {},
      "toc_section_display": true,
      "toc_window_display": false
    },
    "varInspector": {
      "cols": {
        "lenName": 16,
        "lenType": 16,
        "lenVar": 40
      },
      "kernels_config": {
        "python": {
          "delete_cmd_postfix": "",
          "delete_cmd_prefix": "del ",
          "library": "var_list.py",
          "varRefreshCmd": "print(var_dic_list())"
        },
        "r": {
          "delete_cmd_postfix": ") ",
          "delete_cmd_prefix": "rm(",
          "library": "var_list.r",
          "varRefreshCmd": "cat(var_dic_list()) "
        }
      },
      "types_to_exclude": [
        "module",
        "function",
        "builtin_function_or_method",
        "instance",
        "_Feature"
      ],
      "window_display": false
    },
    "colab": {
      "name": "Advanced Python Exception1.ipynb",
      "provenance": [],
      "include_colab_link": true
    }
  },
  "cells": [
    {
      "cell_type": "markdown",
      "metadata": {
        "id": "view-in-github",
        "colab_type": "text"
      },
      "source": [
        "<a href=\"https://colab.research.google.com/github/HimanshuSahoo/PythonCode/blob/main/Advanced_Python_Exception1.ipynb\" target=\"_parent\"><img src=\"https://colab.research.google.com/assets/colab-badge.svg\" alt=\"Open In Colab\"/></a>"
      ]
    },
    {
      "cell_type": "markdown",
      "metadata": {
        "id": "1586e64e"
      },
      "source": [
        "## Python Exception Handling"
      ],
      "id": "1586e64e"
    },
    {
      "cell_type": "code",
      "metadata": {
        "id": "53e22dd3",
        "outputId": "99ad37ed-67b0-4bb0-964c-a55aba1ea7ea"
      },
      "source": [
        "try:\n",
        "    ##code block where exception can occur\n",
        "    a=1\n",
        "    b=\"s\"\n",
        "    c=a+b\n",
        "except NameError as ex1:\n",
        "    print(\"The user have not defined the variable\")\n",
        "except Exception as ex:\n",
        "    print(ex)"
      ],
      "id": "53e22dd3",
      "execution_count": null,
      "outputs": [
        {
          "name": "stdout",
          "output_type": "stream",
          "text": [
            "unsupported operand type(s) for +: 'int' and 'str'\n"
          ]
        }
      ]
    },
    {
      "cell_type": "code",
      "metadata": {
        "id": "435fe5d6"
      },
      "source": [
        "\n",
        "a=b"
      ],
      "id": "435fe5d6",
      "execution_count": null,
      "outputs": []
    },
    {
      "cell_type": "code",
      "metadata": {
        "id": "20a802f8",
        "outputId": "5c94392e-1345-4172-94a3-080592be6b0e"
      },
      "source": [
        "a=1\n",
        "b=\"s\"\n",
        "c=a+b"
      ],
      "id": "20a802f8",
      "execution_count": null,
      "outputs": [
        {
          "ename": "TypeError",
          "evalue": "unsupported operand type(s) for +: 'int' and 'str'",
          "output_type": "error",
          "traceback": [
            "\u001b[1;31m---------------------------------------------------------------------------\u001b[0m",
            "\u001b[1;31mTypeError\u001b[0m                                 Traceback (most recent call last)",
            "\u001b[1;32m<ipython-input-5-9b96ead189f1>\u001b[0m in \u001b[0;36m<module>\u001b[1;34m\u001b[0m\n\u001b[0;32m      1\u001b[0m \u001b[0ma\u001b[0m\u001b[1;33m=\u001b[0m\u001b[1;36m1\u001b[0m\u001b[1;33m\u001b[0m\u001b[1;33m\u001b[0m\u001b[0m\n\u001b[0;32m      2\u001b[0m \u001b[0mb\u001b[0m\u001b[1;33m=\u001b[0m\u001b[1;34m\"s\"\u001b[0m\u001b[1;33m\u001b[0m\u001b[1;33m\u001b[0m\u001b[0m\n\u001b[1;32m----> 3\u001b[1;33m \u001b[0mc\u001b[0m\u001b[1;33m=\u001b[0m\u001b[0ma\u001b[0m\u001b[1;33m+\u001b[0m\u001b[0mb\u001b[0m\u001b[1;33m\u001b[0m\u001b[1;33m\u001b[0m\u001b[0m\n\u001b[0m",
            "\u001b[1;31mTypeError\u001b[0m: unsupported operand type(s) for +: 'int' and 'str'"
          ]
        }
      ]
    },
    {
      "cell_type": "code",
      "metadata": {
        "id": "94bd2259",
        "outputId": "d959b824-1b9b-4731-87aa-28c317248b2c"
      },
      "source": [
        "### try else\n",
        "try:\n",
        "    ##code block where exception can occur\n",
        "    a=int(input(\"Enter the number 1 \"))\n",
        "    b=int(input(\"Enter the number 2 \"))\n",
        "    c=a/b \n",
        "    d=a*b\n",
        "    e=a+b\n",
        "    \n",
        "except NameError:\n",
        "    print(\"The user have not defined the variable\")\n",
        "except ZeroDivisionError:\n",
        "    print(\"Please provide number greater than 0\")\n",
        "except TypeError:\n",
        "    print(\"Try to make the datatype similar\")\n",
        "except Exception as ex:\n",
        "    print(ex)\n",
        "else:\n",
        "    print(c)\n",
        "    print(d)\n",
        "    print(e)"
      ],
      "id": "94bd2259",
      "execution_count": null,
      "outputs": [
        {
          "name": "stdout",
          "output_type": "stream",
          "text": [
            "Enter the number 1 12\n",
            "Enter the number 2 14\n",
            "0.8571428571428571\n",
            "168\n",
            "26\n"
          ]
        }
      ]
    },
    {
      "cell_type": "code",
      "metadata": {
        "id": "fb528948"
      },
      "source": [
        "\n",
        "##try else finally"
      ],
      "id": "fb528948",
      "execution_count": null,
      "outputs": []
    },
    {
      "cell_type": "code",
      "metadata": {
        "id": "acce6015",
        "outputId": "8d851f1a-b732-45f6-adca-841191b83067"
      },
      "source": [
        "### try else\n",
        "try:\n",
        "    ##code block where exception can occur\n",
        "    a=int(input(\"Enter the number 1 \"))\n",
        "    b=int(input(\"Enter the number 2 \"))\n",
        "    c=a/b\n",
        "    \n",
        "except NameError:\n",
        "    print(\"The user have not defined the variable\")\n",
        "except ZeroDivisionError:\n",
        "    print(\"Please provide number greater than 0\")\n",
        "except TypeError:\n",
        "    print(\"Try to make the datatype similar\")\n",
        "except Exception as ex:\n",
        "    print(ex)\n",
        "else:\n",
        "    print(c)\n",
        "finally:\n",
        "    print(\"The execution is done\")"
      ],
      "id": "acce6015",
      "execution_count": null,
      "outputs": [
        {
          "name": "stdout",
          "output_type": "stream",
          "text": [
            "Enter the number 1 12\n",
            "Enter the number 2 0\n",
            "Please provide number greater than 0\n",
            "The execution is done\n"
          ]
        }
      ]
    },
    {
      "cell_type": "markdown",
      "metadata": {
        "id": "f8a7915b"
      },
      "source": [
        "## Custom Exception"
      ],
      "id": "f8a7915b"
    },
    {
      "cell_type": "code",
      "metadata": {
        "id": "18ec98e1"
      },
      "source": [
        "class Error(Exception):\n",
        "    pass\n",
        "\n",
        "class dobException(Error):\n",
        "    pass\n",
        "\n",
        "class customgeneric(Error):\n",
        "    pass"
      ],
      "id": "18ec98e1",
      "execution_count": null,
      "outputs": []
    },
    {
      "cell_type": "code",
      "metadata": {
        "id": "20dda174",
        "outputId": "d933ddd6-bb28-4887-ee29-229126ec24d8"
      },
      "source": [
        "year=int(input(\"Enter the year of Birth \"))\n",
        "age=2021-year\n",
        "try:\n",
        "    if age<=30 & age>20:\n",
        "        print(\"The age is valid. You can apply for the exams\")\n",
        "    else:\n",
        "        raise dobException\n",
        "except dobException:\n",
        "    print(\"The age is not within the range. You cannot apply for the exams\")"
      ],
      "id": "20dda174",
      "execution_count": null,
      "outputs": [
        {
          "name": "stdout",
          "output_type": "stream",
          "text": [
            "Enter the year of Birth 1983\n",
            "The age is not within the range. You cannot apply for the exams\n"
          ]
        }
      ]
    },
    {
      "cell_type": "code",
      "metadata": {
        "id": "642342ce"
      },
      "source": [
        ""
      ],
      "id": "642342ce",
      "execution_count": null,
      "outputs": []
    }
  ]
}