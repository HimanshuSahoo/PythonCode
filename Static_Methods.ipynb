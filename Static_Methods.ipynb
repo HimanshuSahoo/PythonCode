{
  "nbformat": 4,
  "nbformat_minor": 5,
  "metadata": {
    "kernelspec": {
      "display_name": "Python 3",
      "language": "python",
      "name": "python3"
    },
    "language_info": {
      "codemirror_mode": {
        "name": "ipython",
        "version": 3
      },
      "file_extension": ".py",
      "mimetype": "text/x-python",
      "name": "python",
      "nbconvert_exporter": "python",
      "pygments_lexer": "ipython3",
      "version": "3.8.8"
    },
    "toc": {
      "base_numbering": 1,
      "nav_menu": {},
      "number_sections": true,
      "sideBar": true,
      "skip_h1_title": false,
      "title_cell": "Table of Contents",
      "title_sidebar": "Contents",
      "toc_cell": false,
      "toc_position": {},
      "toc_section_display": true,
      "toc_window_display": false
    },
    "varInspector": {
      "cols": {
        "lenName": 16,
        "lenType": 16,
        "lenVar": 40
      },
      "kernels_config": {
        "python": {
          "delete_cmd_postfix": "",
          "delete_cmd_prefix": "del ",
          "library": "var_list.py",
          "varRefreshCmd": "print(var_dic_list())"
        },
        "r": {
          "delete_cmd_postfix": ") ",
          "delete_cmd_prefix": "rm(",
          "library": "var_list.r",
          "varRefreshCmd": "cat(var_dic_list()) "
        }
      },
      "types_to_exclude": [
        "module",
        "function",
        "builtin_function_or_method",
        "instance",
        "_Feature"
      ],
      "window_display": false
    },
    "colab": {
      "name": "Static Methods.ipynb",
      "provenance": [],
      "include_colab_link": true
    }
  },
  "cells": [
    {
      "cell_type": "markdown",
      "metadata": {
        "id": "view-in-github",
        "colab_type": "text"
      },
      "source": [
        "<a href=\"https://colab.research.google.com/github/HimanshuSahoo/PythonCode/blob/main/Static_Methods.ipynb\" target=\"_parent\"><img src=\"https://colab.research.google.com/assets/colab-badge.svg\" alt=\"Open In Colab\"/></a>"
      ]
    },
    {
      "cell_type": "markdown",
      "metadata": {
        "id": "556b1910"
      },
      "source": [
        "## Static Methods"
      ],
      "id": "556b1910"
    },
    {
      "cell_type": "code",
      "metadata": {
        "id": "afa0927b"
      },
      "source": [
        "import datetime\n",
        "now = datetime.datetime.now()"
      ],
      "id": "afa0927b",
      "execution_count": null,
      "outputs": []
    },
    {
      "cell_type": "code",
      "metadata": {
        "id": "eb880149",
        "outputId": "2aa6ad04-850d-496f-91a5-91a434646513"
      },
      "source": [
        "now.year"
      ],
      "id": "eb880149",
      "execution_count": null,
      "outputs": [
        {
          "data": {
            "text/plain": [
              "2021"
            ]
          },
          "execution_count": 2,
          "metadata": {},
          "output_type": "execute_result"
        }
      ]
    },
    {
      "cell_type": "code",
      "metadata": {
        "id": "21865fd3"
      },
      "source": [
        "class Car:\n",
        "    base_price=100000 ##Class Variables\n",
        "    def __init__(self,windows,doors,power):\n",
        "        self.windows=windows\n",
        "        self.doors=doors\n",
        "        self.power=power\n",
        "    def what_base_price(self):\n",
        "        print(\"The base price is {}\".format(self.base_price))\n",
        "    @classmethod\n",
        "    def revise_base_price(cls,inflation):\n",
        "        cls.base_price=cls.base_price+cls.base_price*inflation\n",
        "    @staticmethod\n",
        "    def check_year():\n",
        "        if now.year==2021:\n",
        "            return True\n",
        "        else:\n",
        "            return False\n",
        "        "
      ],
      "id": "21865fd3",
      "execution_count": null,
      "outputs": []
    },
    {
      "cell_type": "code",
      "metadata": {
        "id": "152cab71"
      },
      "source": [
        "car1=Car(4,5,2000)"
      ],
      "id": "152cab71",
      "execution_count": null,
      "outputs": []
    },
    {
      "cell_type": "code",
      "metadata": {
        "id": "52964de8"
      },
      "source": [
        "if(car1.check_year()):\n",
        "    pass\n",
        "else:\n",
        "    Car.revise_base_price()"
      ],
      "id": "52964de8",
      "execution_count": null,
      "outputs": []
    },
    {
      "cell_type": "code",
      "metadata": {
        "id": "36fdbe45",
        "outputId": "683933e5-8e46-4de9-ef4c-d609aa30001c"
      },
      "source": [
        "car1.base_price"
      ],
      "id": "36fdbe45",
      "execution_count": null,
      "outputs": [
        {
          "data": {
            "text/plain": [
              "100000"
            ]
          },
          "execution_count": 6,
          "metadata": {},
          "output_type": "execute_result"
        }
      ]
    },
    {
      "cell_type": "code",
      "metadata": {
        "id": "5e569ce5"
      },
      "source": [
        ""
      ],
      "id": "5e569ce5",
      "execution_count": null,
      "outputs": []
    }
  ]
}